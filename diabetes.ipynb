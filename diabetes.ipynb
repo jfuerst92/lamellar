{
 "cells": [
  {
   "cell_type": "code",
   "execution_count": 14,
   "metadata": {},
   "outputs": [],
   "source": [
    "import numpy as np\n",
    "import pandas as pd\n",
    "import pprint\n",
    "from sklearn import metrics\n",
    "from sklearn.model_selection import train_test_split\n",
    "from sklearn import tree\n",
    "from sklearn.datasets import load_digits\n",
    "from IPython.display import display, HTML\n",
    "from sklearn.neighbors import KNeighborsClassifier\n",
    "from sklearn.metrics import classification_report\n",
    "import math, time\n",
    "import matplotlib.pyplot as plt\n",
    "import seaborn as sns\n",
    "from sklearn.model_selection import learning_curve\n",
    "from sklearn.model_selection import validation_curve\n",
    "from sklearn.model_selection import StratifiedShuffleSplit\n",
    "from sklearn.ensemble import AdaBoostClassifier\n",
    "from sklearn.model_selection import cross_val_score\n",
    "import tensorflow\n",
    "import tensorflow.keras as keras\n",
    "from tensorflow.keras.layers import Dense, Conv2D, Reshape, MaxPooling2D, Dropout, Flatten, Activation, BatchNormalization, ZeroPadding2D\n",
    "from sklearn.model_selection import GridSearchCV\n",
    "from sklearn.svm import SVC\n",
    "from sklearn.preprocessing import LabelEncoder\n",
    "from sklearn.preprocessing import Binarizer, StandardScaler\n",
    "from keras.regularizers import l2\n",
    "from keras.callbacks import ModelCheckpoint, ReduceLROnPlateau\n"
   ]
  },
  {
   "cell_type": "code",
   "execution_count": 6,
   "metadata": {},
   "outputs": [],
   "source": [
    "np.random.seed(0)\n",
    "hyperparameters = {\n",
    "    'tree': {\n",
    "\n",
    "        'max_depth': [2, 4, 8, 16, 32, 64, 128, None],\n",
    "        'min_samples_split':  [1, 2, 4, 8, 16, 32, 64, 128, 256, 512],\n",
    "        'min_samples_leaf':  [1, 2, 4, 8, 16, 32, 64, 128, 256, 512],\n",
    "\n",
    "\n",
    "    },\n",
    "    'SVM': {\n",
    "        'C': [0.1, 1, 10, 100],\n",
    "        'gamma': [1, 0.1, 0.01, 0.001, 0.0001],\n",
    "        'kernel': ['rbf', 'linear', 'poly']\n",
    "    },\n",
    "    'KNN': {\n",
    "        'n_neighbors': np.arange(1, 10, 1)\n",
    "    },\n",
    "    'adaboost': {\n",
    "        'n_estimators': np.arange(1, 150, 10),\n",
    "\n",
    "    }\n",
    "\n",
    "}"
   ]
  },
  {
   "cell_type": "code",
   "execution_count": 16,
   "metadata": {},
   "outputs": [],
   "source": [
    "def load_data():\n",
    "    data_directory = \"../data/\"\n",
    "    filename = \"diabetes.csv\"\n",
    "    df = pd.read_csv(data_directory + filename)\n",
    "    \n",
    "    plt.show()\n",
    "    cols = list(df.columns.values)\n",
    "    cols.remove('Outcome')\n",
    "    X = (df[cols]).values\n",
    "    y = df['Outcome'].values\n",
    "    #scaler = StandardScaler()\n",
    "    #scaler.fit(X)\n",
    "    #X = scaler.transform(X)\n",
    "    \n",
    "    #plt.savefig(\"./output/label_count_mnist.png\")\n",
    "    return(X, y)\n",
    "\n",
    "def split_data(X, y, data_size=1.0, train_size=0.8, strat=False):\n",
    "    if strat:\n",
    "        sss = StratifiedShuffleSplit(n_splits=1, random_state=0, train_size=train_size, test_size=train_size/4)\n",
    "        for train_index, test_index in sss.split(X, y):\n",
    "            print(\"hm\")\n",
    "            X_train = X[train_index]\n",
    "            X_test = X[test_index]\n",
    "            y_train, y_test = y[train_index], y[test_index]\n",
    "    else:\n",
    "        X_train, X_test, y_train, y_test = train_test_split(X, y, train_size=train_size, test_size=train_size/4)\n",
    "    return(X_train, y_train, X_test, y_test)\n"
   ]
  },
  {
   "cell_type": "code",
   "execution_count": 17,
   "metadata": {},
   "outputs": [],
   "source": [
    "X, y = load_data()\n",
    "\n"
   ]
  },
  {
   "cell_type": "code",
   "execution_count": 18,
   "metadata": {},
   "outputs": [
    {
     "name": "stdout",
     "output_type": "stream",
     "text": [
      "(491, 8)\n",
      "(123, 8)\n",
      "(154, 8)\n"
     ]
    }
   ],
   "source": [
    "X_train, X_holdout_test, y_train, y_holdout_test = train_test_split(X, y, test_size=0.2)\n",
    "X_train, y_train, X_test, y_test = split_data(X_train, y_train, train_size=0.8)\n",
    "print(X_train.shape)\n",
    "print(X_test.shape)\n",
    "print(X_holdout_test.shape)"
   ]
  },
  {
   "cell_type": "code",
   "execution_count": 19,
   "metadata": {},
   "outputs": [],
   "source": [
    "\n",
    "def test_hyperparams(classifier, range, args, arg_to_iterate):\n",
    "    train_accs = []\n",
    "    test_accs = []\n",
    "    a = args\n",
    "\n",
    "    for i in range:\n",
    "        a[arg_to_iterate] = i\n",
    "        clf = classifier(**a)\n",
    "        clf = clf.fit(X_train, y_train)\n",
    "        train_score = clf.score(X_train, y_train)\n",
    "        test_score =clf.score(X_test, y_test)\n",
    "        #print(\"i=%d, accuracy=%.2f%%\" % (i, test_score * 100))\n",
    "        train_accs.append(train_score* 100)\n",
    "        test_accs.append(test_score* 100)\n",
    "        best_metric = range[np.argmax(test_accs)]\n",
    "    return test_accs, train_accs, best_metric\n",
    "\n",
    "def plot_hyperparam_test(test_accs, train_accs, n_range, dataset, model_name, param_name, hist=False):\n",
    "\n",
    "    plt.plot(n_range, train_accs, label = \"train acc\")\n",
    "    plt.plot(n_range, test_accs, label = \"test acc\")\n",
    "    plt.legend()\n",
    "\n",
    "    plt.xlabel(param_name)\n",
    "    plt.ylabel(\"test accuracy\")\n",
    "    title = \"\" + model_name + \" score for \" + param_name\n",
    "    plt.title(title)\n",
    "    plt.show()\n",
    "    plt.savefig(\"./output/\" + dataset + \"-\" + model_name + \"-\" + param_name + \".png\")\n",
    "\n",
    "def run_gridsearchCV(classifier, params, X_train, y_train, X_test, y_test):\n",
    "    grid = GridSearchCV(classifier, param_grid=params, cv=5, verbose=10, n_jobs=-1)\n",
    "    grid.fit(X_train, y_train)\n",
    "    train_score = grid.score(X_train, y_train)\n",
    "    test_score = grid.score(X_test, y_test)\n",
    "    return(train_score, test_score, grid.best_params_)\n",
    "\n",
    "def tune_knn(X_train, y_train, X_test, y_test):\n",
    "    kVals = np.arange(1, 100, 1)\n",
    "    gscv_train, gscv_test, best_params = run_gridsearchCV(\n",
    "        KNeighborsClassifier(),\n",
    "        {\n",
    "            'n_neighbors': kVals,\n",
    "            'weights': ['uniform', 'distance'],\n",
    "            'algorithm': ['auto', 'ball', 'kd_tree', 'brute']\n",
    "        },\n",
    "        X_train, y_train, X_test, y_test\n",
    "    )\n",
    "    print(gscv_train)\n",
    "    print(gscv_test)\n",
    "    print(best_params)\n",
    "    \n",
    "def tune_decision_tree(X_train, y_train, X_test, y_test):\n",
    "    kVals = np.arange(1, 30, 1)\n",
    "    gscv_train, gscv_test, best_params = run_gridsearchCV(\n",
    "        tree.DecisionTreeClassifier(),\n",
    "        {\n",
    "           'max_depth': [2, 4, 8, 16, 32, 64, 128, None],\n",
    "            'min_samples_split':  [1, 2, 4, 8, 16, 32, 64, 128, 256, 512],\n",
    "            'min_samples_leaf':  [1, 2, 4, 8, 16, 32, 64, 128, 256, 512],\n",
    "        },\n",
    "        X_train, y_train, X_test, y_test\n",
    "    )\n",
    "    print(gscv_train)\n",
    "    print(gscv_test)\n",
    "    print(best_params)\n",
    "    \n",
    "def tune_SVM(X_train, y_train, X_test, y_test):\n",
    "    kVals = np.arange(1, 30, 1)\n",
    "    gscv_train, gscv_test, best_params = run_gridsearchCV(\n",
    "        SVC(),\n",
    "        {\n",
    "            'C': [0.1, 1, 10, 100, 1000],\n",
    "            'gamma': [1, 0.1, 0.01, 0.001, 0.0001],\n",
    "            'kernel': ['rbf', 'linear', 'poly']\n",
    "        },\n",
    "        X_train, y_train, X_test, y_test\n",
    "    )\n",
    "    print(gscv_train)\n",
    "    print(gscv_test)\n",
    "    print(best_params)\n",
    "    \n",
    "def tune_adaboost(X_train, y_train, X_test, y_test):\n",
    "    kVals = np.arange(1, 30, 1)\n",
    "    \n",
    "    params = {\"base_estimator__criterion\" : [\"gini\", \"entropy\"],\n",
    "                  \"base_estimator__splitter\" :   [\"best\", \"random\"],\n",
    "                  \"base_estimator__max_depth\" :   np.arange(2, 12, 1),\n",
    "                  \"n_estimators\": np.arange(1, 150, 10)\n",
    "                 }\n",
    "\n",
    "\n",
    "  \n",
    "    clf = AdaBoostClassifier(base_estimator = tree.DecisionTreeClassifier(random_state = 11, max_features = \"auto\"))\n",
    "    \n",
    "    gscv_train, gscv_test, best_params = run_gridsearchCV(\n",
    "        clf,\n",
    "        params,\n",
    "        X_train, y_train, X_test, y_test\n",
    "    )\n",
    "    print(gscv_train)\n",
    "    print(gscv_test)\n",
    "    print(best_params)\n",
    "\n",
    "\n",
    "\n"
   ]
  },
  {
   "cell_type": "markdown",
   "metadata": {},
   "source": [
    "# KNN"
   ]
  },
  {
   "cell_type": "code",
   "execution_count": 37,
   "metadata": {},
   "outputs": [
    {
     "name": "stdout",
     "output_type": "stream",
     "text": [
      "Fitting 5 folds for each of 792 candidates, totalling 3960 fits\n"
     ]
    },
    {
     "name": "stderr",
     "output_type": "stream",
     "text": [
      "[Parallel(n_jobs=-1)]: Using backend LokyBackend with 12 concurrent workers.\n",
      "[Parallel(n_jobs=-1)]: Done   1 tasks      | elapsed:    0.0s\n",
      "[Parallel(n_jobs=-1)]: Batch computation too fast (0.0179s.) Setting batch_size=2.\n",
      "[Parallel(n_jobs=-1)]: Done   8 tasks      | elapsed:    0.0s\n",
      "[Parallel(n_jobs=-1)]: Done  17 tasks      | elapsed:    0.0s\n",
      "[Parallel(n_jobs=-1)]: Batch computation too fast (0.0618s.) Setting batch_size=4.\n",
      "[Parallel(n_jobs=-1)]: Done  28 tasks      | elapsed:    0.0s\n",
      "[Parallel(n_jobs=-1)]: Done  50 tasks      | elapsed:    0.0s\n",
      "[Parallel(n_jobs=-1)]: Done  72 tasks      | elapsed:    0.0s\n",
      "[Parallel(n_jobs=-1)]: Batch computation too fast (0.0558s.) Setting batch_size=8.\n",
      "[Parallel(n_jobs=-1)]: Done 124 tasks      | elapsed:    0.1s\n",
      "[Parallel(n_jobs=-1)]: Batch computation too fast (0.0828s.) Setting batch_size=16.\n",
      "[Parallel(n_jobs=-1)]: Done 184 tasks      | elapsed:    0.2s\n",
      "[Parallel(n_jobs=-1)]: Done 304 tasks      | elapsed:    0.3s\n",
      "[Parallel(n_jobs=-1)]: Batch computation too fast (0.1267s.) Setting batch_size=32.\n",
      "[Parallel(n_jobs=-1)]: Done 488 tasks      | elapsed:    0.4s\n",
      "[Parallel(n_jobs=-1)]: Done 776 tasks      | elapsed:    0.6s\n",
      "[Parallel(n_jobs=-1)]: Batch computation too fast (0.1606s.) Setting batch_size=64.\n",
      "[Parallel(n_jobs=-1)]: Done 1320 tasks      | elapsed:    0.8s\n",
      "[Parallel(n_jobs=-1)]: Done 2344 tasks      | elapsed:    1.1s\n",
      "[Parallel(n_jobs=-1)]: Done 3308 tasks      | elapsed:    1.5s\n",
      "[Parallel(n_jobs=-1)]: Done 3329 tasks      | elapsed:    1.6s\n",
      "[Parallel(n_jobs=-1)]: Done 3350 tasks      | elapsed:    1.6s\n",
      "[Parallel(n_jobs=-1)]: Done 3373 tasks      | elapsed:    1.7s\n"
     ]
    },
    {
     "name": "stdout",
     "output_type": "stream",
     "text": [
      "0.7739307535641547\n",
      "0.7479674796747967\n",
      "{'weights': 'uniform', 'n_neighbors': 57, 'algorithm': 'auto'}\n"
     ]
    },
    {
     "name": "stderr",
     "output_type": "stream",
     "text": [
      "[Parallel(n_jobs=-1)]: Done 3585 tasks      | elapsed:    1.7s\n",
      "[Parallel(n_jobs=-1)]: Done 3736 tasks      | elapsed:    1.8s\n",
      "[Parallel(n_jobs=-1)]: Done 3960 out of 3960 | elapsed:    1.8s finished\n"
     ]
    }
   ],
   "source": [
    "tune_knn(X_train, y_train, X_test, y_test)"
   ]
  },
  {
   "cell_type": "code",
   "execution_count": 41,
   "metadata": {},
   "outputs": [
    {
     "name": "stdout",
     "output_type": "stream",
     "text": [
      "[76.42276422764228, 67.47967479674797, 73.98373983739837, 71.54471544715447, 74.79674796747967, 71.54471544715447, 72.35772357723577, 73.17073170731707, 74.79674796747967, 73.98373983739837, 76.42276422764228, 73.17073170731707, 75.60975609756098, 74.79674796747967, 75.60975609756098, 73.17073170731707, 75.60975609756098, 75.60975609756098, 78.04878048780488, 77.23577235772358, 77.23577235772358, 74.79674796747967, 75.60975609756098, 75.60975609756098, 76.42276422764228, 76.42276422764228, 77.23577235772358, 78.04878048780488, 78.04878048780488, 75.60975609756098, 77.23577235772358, 75.60975609756098, 75.60975609756098, 74.79674796747967, 74.79674796747967, 73.98373983739837, 75.60975609756098, 73.98373983739837, 75.60975609756098, 74.79674796747967, 75.60975609756098, 74.79674796747967, 74.79674796747967, 73.98373983739837, 73.98373983739837, 73.17073170731707, 74.79674796747967, 74.79674796747967, 74.79674796747967, 74.79674796747967, 74.79674796747967, 74.79674796747967, 74.79674796747967, 74.79674796747967, 74.79674796747967, 73.98373983739837, 74.79674796747967, 73.17073170731707, 73.98373983739837, 72.35772357723577, 73.98373983739837, 73.17073170731707, 73.98373983739837, 72.35772357723577, 73.98373983739837, 73.98373983739837, 73.98373983739837, 73.17073170731707, 73.17073170731707, 73.98373983739837, 73.98373983739837, 73.98373983739837, 73.98373983739837, 72.35772357723577, 73.98373983739837, 73.17073170731707, 73.98373983739837, 73.98373983739837, 73.98373983739837, 73.98373983739837, 73.98373983739837, 73.98373983739837, 73.98373983739837, 71.54471544715447, 73.17073170731707, 70.73170731707317, 70.73170731707317, 70.73170731707317, 70.73170731707317, 70.73170731707317, 71.54471544715447, 69.91869918699187, 70.73170731707317, 70.73170731707317, 70.73170731707317, 69.91869918699187, 71.54471544715447, 69.10569105691057, 69.10569105691057]\n",
      "[100.0, 84.72505091649694, 83.5030549898167, 79.83706720977597, 80.85539714867616, 78.41140529531569, 80.04073319755601, 78.20773930753563, 79.0224032586558, 78.00407331975559, 76.9857433808554, 76.37474541751527, 77.80040733197556, 77.39307535641548, 77.80040733197556, 77.39307535641548, 77.80040733197556, 77.18940936863544, 78.20773930753563, 78.41140529531569, 78.20773930753563, 78.00407331975559, 76.9857433808554, 77.39307535641548, 78.41140529531569, 77.59674134419552, 78.41140529531569, 76.57841140529531, 76.9857433808554, 76.57841140529531, 77.80040733197556, 76.9857433808554, 79.0224032586558, 78.20773930753563, 78.81873727087576, 77.39307535641548, 78.00407331975559, 78.00407331975559, 77.59674134419552, 77.80040733197556, 77.80040733197556, 77.18940936863544, 77.18940936863544, 76.78207739307535, 76.9857433808554, 77.39307535641548, 76.9857433808554, 76.9857433808554, 76.78207739307535, 77.39307535641548, 77.18940936863544, 76.78207739307535, 76.9857433808554, 76.37474541751527, 76.78207739307535, 76.17107942973523, 77.39307535641548, 75.96741344195519, 75.96741344195519, 75.56008146639512, 75.96741344195519, 75.76374745417516, 76.57841140529531, 76.17107942973523, 76.17107942973523, 76.17107942973523, 76.9857433808554, 76.57841140529531, 76.57841140529531, 75.56008146639512, 76.17107942973523, 75.35641547861506, 75.96741344195519, 75.56008146639512, 76.17107942973523, 75.56008146639512, 75.76374745417516, 75.56008146639512, 75.96741344195519, 75.56008146639512, 75.96741344195519, 75.35641547861506, 75.56008146639512, 74.74541751527495, 75.35641547861506, 74.54175152749491, 75.15274949083503, 74.54175152749491, 74.74541751527495, 74.74541751527495, 74.949083503055, 75.35641547861506, 74.949083503055, 75.15274949083503, 75.15274949083503, 74.949083503055, 74.74541751527495, 74.54175152749491, 74.74541751527495]\n",
      "19\n"
     ]
    }
   ],
   "source": [
    "params = {\n",
    "    'n_neighbors': 1\n",
    "}\n",
    "n_range = np.arange(1, 100, 1)\n",
    "\n",
    "test_accs, train_accs, best_metric = test_hyperparams(KNeighborsClassifier, \n",
    "                                                      n_range, \n",
    "                                                      params,\n",
    "                                                      'n_neighbors' \n",
    "                                                     )\n",
    "print(test_accs)\n",
    "print(train_accs)\n",
    "print(best_metric)"
   ]
  },
  {
   "cell_type": "code",
   "execution_count": 42,
   "metadata": {},
   "outputs": [
    {
     "data": {
      "image/png": "[encoded data removed]",
      "text/plain": [
       "<Figure size 432x288 with 1 Axes>"
      ]
     },
     "metadata": {
      "needs_background": "light"
     },
     "output_type": "display_data"
    },
    {
     "data": {
      "text/plain": [
       "<Figure size 432x288 with 0 Axes>"
      ]
     },
     "metadata": {},
     "output_type": "display_data"
    }
   ],
   "source": [
    "n_range = np.arange(1, 100, 1)\n",
    "plot_hyperparam_test(test_accs, train_accs, n_range,  \"MNIST\", \"KNN\", \"n_neighbors\")"
   ]
  },
  {
   "cell_type": "code",
   "execution_count": 44,
   "metadata": {},
   "outputs": [
    {
     "name": "stdout",
     "output_type": "stream",
     "text": [
      "0.6818181818181818\n"
     ]
    }
   ],
   "source": [
    "model = KNeighborsClassifier(n_neighbors=29)\n",
    "model.fit(X_train,y_train)\n",
    "y_pred = model.predict(X_holdout_test)\n",
    "knn_test_acc = metrics.accuracy_score(y_holdout_test, y_pred)\n",
    "print(metrics.accuracy_score(y_holdout_test, y_pred))"
   ]
  },
  {
   "cell_type": "code",
   "execution_count": 21,
   "metadata": {},
   "outputs": [],
   "source": []
  },
  {
   "cell_type": "markdown",
   "metadata": {},
   "source": [
    "# Decision tree"
   ]
  },
  {
   "cell_type": "code",
   "execution_count": 45,
   "metadata": {},
   "outputs": [
    {
     "name": "stdout",
     "output_type": "stream",
     "text": [
      "Fitting 5 folds for each of 800 candidates, totalling 4000 fits\n"
     ]
    },
    {
     "name": "stderr",
     "output_type": "stream",
     "text": [
      "[Parallel(n_jobs=-1)]: Using backend LokyBackend with 12 concurrent workers.\n",
      "[Parallel(n_jobs=-1)]: Done   1 tasks      | elapsed:    1.3s\n",
      "[Parallel(n_jobs=-1)]: Done   8 tasks      | elapsed:    1.3s\n",
      "[Parallel(n_jobs=-1)]: Done  17 tasks      | elapsed:    1.4s\n",
      "[Parallel(n_jobs=-1)]: Done  26 tasks      | elapsed:    1.4s\n",
      "[Parallel(n_jobs=-1)]: Done  37 tasks      | elapsed:    1.4s\n",
      "[Parallel(n_jobs=-1)]: Batch computation too fast (0.1800s.) Setting batch_size=2.\n",
      "[Parallel(n_jobs=-1)]: Done  48 tasks      | elapsed:    1.4s\n",
      "[Parallel(n_jobs=-1)]: Done  61 tasks      | elapsed:    1.5s\n",
      "[Parallel(n_jobs=-1)]: Batch computation too fast (0.0329s.) Setting batch_size=4.\n",
      "[Parallel(n_jobs=-1)]: Done  76 tasks      | elapsed:    1.5s\n",
      "[Parallel(n_jobs=-1)]: Done 106 tasks      | elapsed:    1.5s\n",
      "[Parallel(n_jobs=-1)]: Batch computation too fast (0.0499s.) Setting batch_size=8.\n",
      "[Parallel(n_jobs=-1)]: Done 152 tasks      | elapsed:    1.6s\n",
      "[Parallel(n_jobs=-1)]: Done 224 tasks      | elapsed:    1.6s\n",
      "[Parallel(n_jobs=-1)]: Batch computation too fast (0.0668s.) Setting batch_size=16.\n",
      "[Parallel(n_jobs=-1)]: Done 360 tasks      | elapsed:    1.7s\n",
      "[Parallel(n_jobs=-1)]: Batch computation too fast (0.1017s.) Setting batch_size=32.\n",
      "[Parallel(n_jobs=-1)]: Done 616 tasks      | elapsed:    1.8s\n",
      "[Parallel(n_jobs=-1)]: Batch computation too fast (0.1476s.) Setting batch_size=64.\n",
      "[Parallel(n_jobs=-1)]: Done 1048 tasks      | elapsed:    2.1s\n",
      "[Parallel(n_jobs=-1)]: Done 1880 tasks      | elapsed:    2.5s\n"
     ]
    },
    {
     "name": "stdout",
     "output_type": "stream",
     "text": [
      "0.8085539714867617\n",
      "0.6829268292682927\n",
      "{'min_samples_split': 4, 'min_samples_leaf': 32, 'max_depth': 4}\n"
     ]
    },
    {
     "name": "stderr",
     "output_type": "stream",
     "text": [
      "[Parallel(n_jobs=-1)]: Done 3161 tasks      | elapsed:    2.7s\n",
      "[Parallel(n_jobs=-1)]: Done 3499 tasks      | elapsed:    2.8s\n",
      "[Parallel(n_jobs=-1)]: Done 3522 tasks      | elapsed:    2.8s\n",
      "[Parallel(n_jobs=-1)]: Done 3673 tasks      | elapsed:    2.8s\n",
      "[Parallel(n_jobs=-1)]: Done 3950 tasks      | elapsed:    2.9s\n",
      "[Parallel(n_jobs=-1)]: Done 3977 tasks      | elapsed:    2.9s\n",
      "[Parallel(n_jobs=-1)]: Done 4000 out of 4000 | elapsed:    2.9s finished\n"
     ]
    }
   ],
   "source": [
    "tune_decision_tree(X_train, y_train, X_test, y_test)"
   ]
  },
  {
   "cell_type": "code",
   "execution_count": 60,
   "metadata": {},
   "outputs": [
    {
     "data": {
      "image/png": "[encoded data removed]",
      "text/plain": [
       "<Figure size 432x288 with 1 Axes>"
      ]
     },
     "metadata": {
      "needs_background": "light"
     },
     "output_type": "display_data"
    },
    {
     "name": "stdout",
     "output_type": "stream",
     "text": [
      "test acc:  [70.73170731707317, 69.10569105691057, 69.10569105691057, 68.29268292682927, 69.91869918699187, 72.35772357723577, 65.85365853658537, 69.91869918699187, 66.66666666666666, 69.10569105691057, 67.47967479674797, 65.04065040650406, 67.47967479674797, 65.04065040650406, 64.22764227642277, 65.85365853658537, 67.47967479674797, 65.85365853658537, 65.85365853658537, 64.22764227642277, 65.04065040650406, 65.85365853658537, 66.66666666666666, 65.04065040650406]\n",
      "train acc:  [78.61507128309573, 79.22606924643586, 80.24439918533605, 82.28105906313645, 82.89205702647658, 85.74338085539715, 87.57637474541752, 89.61303462321793, 92.4643584521385, 94.09368635437882, 95.5193482688391, 96.13034623217924, 97.5560081466395, 98.16700610997964, 97.5560081466395, 97.75967413441956, 97.75967413441956, 97.75967413441956, 98.16700610997964, 98.16700610997964, 98.16700610997964, 98.16700610997964, 98.16700610997964, 97.75967413441956]\n",
      "6\n"
     ]
    },
    {
     "data": {
      "text/plain": [
       "<Figure size 432x288 with 0 Axes>"
      ]
     },
     "metadata": {},
     "output_type": "display_data"
    }
   ],
   "source": [
    "params ={'max_depth': 6, 'min_samples_split': 4, 'min_samples_leaf': 1}\n",
    "n_range = np.arange(1,25, 1)\n",
    "\n",
    "test_accs, train_accs, best_metric = test_hyperparams(tree.DecisionTreeClassifier, \n",
    "                                                      n_range, \n",
    "                                                      params,\n",
    "                                                      'max_depth' \n",
    "                                                     )\n",
    "\n",
    "plot_hyperparam_test(test_accs, train_accs, n_range,  \"MNIST\", \"Decision_Tree\", \"max_depth\")\n",
    "print(\"test acc: \", test_accs)\n",
    "print(\"train acc: \", train_accs)\n",
    "print(best_metric)"
   ]
  },
  {
   "cell_type": "code",
   "execution_count": null,
   "metadata": {},
   "outputs": [],
   "source": []
  },
  {
   "cell_type": "code",
   "execution_count": 61,
   "metadata": {},
   "outputs": [
    {
     "data": {
      "image/png": "[encoded data removed]",
      "text/plain": [
       "<Figure size 432x288 with 1 Axes>"
      ]
     },
     "metadata": {
      "needs_background": "light"
     },
     "output_type": "display_data"
    },
    {
     "name": "stdout",
     "output_type": "stream",
     "text": [
      "41\n"
     ]
    },
    {
     "data": {
      "text/plain": [
       "<Figure size 432x288 with 0 Axes>"
      ]
     },
     "metadata": {},
     "output_type": "display_data"
    }
   ],
   "source": [
    "n_range = np.arange(2, 50, 1)\n",
    "\n",
    "test_accs, train_accs, best_metric = test_hyperparams(tree.DecisionTreeClassifier, \n",
    "                                                      n_range, \n",
    "                                                      params,\n",
    "                                                      'min_samples_split' \n",
    "                                                     )\n",
    "\n",
    "plot_hyperparam_test(test_accs, train_accs, n_range,  \"MNIST\", \"Decision_Tree\", \"min_samples_split\")\n",
    "#print(\"test acc: \", test_accs)\n",
    "#print(\"train acc: \", train_accs)\n",
    "print(best_metric)"
   ]
  },
  {
   "cell_type": "code",
   "execution_count": 32,
   "metadata": {},
   "outputs": [],
   "source": [
    "params['min_samples_split'] = 39"
   ]
  },
  {
   "cell_type": "code",
   "execution_count": 63,
   "metadata": {},
   "outputs": [
    {
     "data": {
      "image/png": "[encoded data removed]",
      "text/plain": [
       "<Figure size 432x288 with 1 Axes>"
      ]
     },
     "metadata": {
      "needs_background": "light"
     },
     "output_type": "display_data"
    },
    {
     "name": "stdout",
     "output_type": "stream",
     "text": [
      "35\n"
     ]
    },
    {
     "data": {
      "text/plain": [
       "<Figure size 432x288 with 0 Axes>"
      ]
     },
     "metadata": {},
     "output_type": "display_data"
    }
   ],
   "source": [
    "n_range = np.arange(2, 100, 1)\n",
    "\n",
    "test_accs, train_accs, best_metric = test_hyperparams(tree.DecisionTreeClassifier, \n",
    "                                                      n_range, \n",
    "                                                      params,\n",
    "                                                      'min_samples_leaf' \n",
    "                                                     )\n",
    "\n",
    "plot_hyperparam_test(test_accs, train_accs, n_range,  \"MNIST\", \"Decision_Tree\", \"min_samples_leaf\")\n",
    "#print(\"test acc: \", test_accs)\n",
    "#print(\"train acc: \", train_accs)\n",
    "print(best_metric)"
   ]
  },
  {
   "cell_type": "code",
   "execution_count": 34,
   "metadata": {},
   "outputs": [],
   "source": [
    "params['min_samples_leaf'] = 4"
   ]
  },
  {
   "cell_type": "code",
   "execution_count": 65,
   "metadata": {},
   "outputs": [
    {
     "name": "stdout",
     "output_type": "stream",
     "text": [
      "0.7012987012987013\n"
     ]
    }
   ],
   "source": [
    "params ={'max_depth': 6,'min_samples_leaf':35}\n",
    "clf = tree.DecisionTreeClassifier(**params)\n",
    "clf = clf.fit(X_train, y_train)\n",
    "\n",
    "y_pred = clf.predict(X_holdout_test)\n",
    "print(metrics.accuracy_score(y_holdout_test, y_pred))\n",
    "decision_tree_test_acc = metrics.accuracy_score(y_holdout_test, y_pred)"
   ]
  },
  {
   "cell_type": "markdown",
   "metadata": {},
   "source": [
    "# SVM"
   ]
  },
  {
   "cell_type": "code",
   "execution_count": 66,
   "metadata": {},
   "outputs": [
    {
     "name": "stdout",
     "output_type": "stream",
     "text": [
      "Fitting 5 folds for each of 75 candidates, totalling 375 fits\n"
     ]
    },
    {
     "name": "stderr",
     "output_type": "stream",
     "text": [
      "[Parallel(n_jobs=-1)]: Using backend LokyBackend with 12 concurrent workers.\n",
      "[Parallel(n_jobs=-1)]: Done   1 tasks      | elapsed:    1.2s\n",
      "[Parallel(n_jobs=-1)]: Done   8 tasks      | elapsed:    1.3s\n",
      "[Parallel(n_jobs=-1)]: Done  17 tasks      | elapsed:    1.3s\n",
      "[Parallel(n_jobs=-1)]: Done  26 tasks      | elapsed:    1.3s\n",
      "[Parallel(n_jobs=-1)]: Batch computation too fast (0.1917s.) Setting batch_size=2.\n",
      "[Parallel(n_jobs=-1)]: Done  37 tasks      | elapsed:    1.3s\n",
      "[Parallel(n_jobs=-1)]: Done  48 tasks      | elapsed:    1.4s\n",
      "[Parallel(n_jobs=-1)]: Done  62 tasks      | elapsed:    1.4s\n",
      "[Parallel(n_jobs=-1)]: Batch computation too fast (0.0312s.) Setting batch_size=4.\n",
      "[Parallel(n_jobs=-1)]: Done  88 tasks      | elapsed:    1.5s\n",
      "[Parallel(n_jobs=-1)]: Batch computation too fast (0.0668s.) Setting batch_size=8.\n",
      "[Parallel(n_jobs=-1)]: Done 134 tasks      | elapsed:    1.5s\n",
      "[Parallel(n_jobs=-1)]: Batch computation too fast (0.0937s.) Setting batch_size=16.\n",
      "[Parallel(n_jobs=-1)]: Done 202 tasks      | elapsed:    1.7s\n",
      "[Parallel(n_jobs=-1)]: Done 281 tasks      | elapsed:    3.0s\n",
      "[Parallel(n_jobs=-1)]: Done 301 tasks      | elapsed:    7.2s\n",
      "[Parallel(n_jobs=-1)]: Done 320 tasks      | elapsed:    9.6s\n"
     ]
    },
    {
     "name": "stdout",
     "output_type": "stream",
     "text": [
      "0.8065173116089613\n",
      "0.7560975609756098\n",
      "{'kernel': 'rbf', 'C': 100, 'gamma': 0.001}\n"
     ]
    },
    {
     "name": "stderr",
     "output_type": "stream",
     "text": [
      "[Parallel(n_jobs=-1)]: Done 375 out of 375 | elapsed:  8.7min finished\n"
     ]
    }
   ],
   "source": [
    "tune_SVM(X_train, y_train, X_test, y_test)"
   ]
  },
  {
   "cell_type": "code",
   "execution_count": 75,
   "metadata": {},
   "outputs": [
    {
     "name": "stdout",
     "output_type": "stream",
     "text": [
      "[  1   2   3   4   5   6   7   8   9  10  11  12  13  14  15  16  17  18\n",
      "  19  20  21  22  23  24  25  26  27  28  29  30  31  32  33  34  35  36\n",
      "  37  38  39  40  41  42  43  44  45  46  47  48  49  50  51  52  53  54\n",
      "  55  56  57  58  59  60  61  62  63  64  65  66  67  68  69  70  71  72\n",
      "  73  74  75  76  77  78  79  80  81  82  83  84  85  86  87  88  89  90\n",
      "  91  92  93  94  95  96  97  98  99 100 101 102 103 104 105 106 107 108\n",
      " 109 110 111 112 113 114 115 116 117 118 119 120 121 122 123 124 125 126\n",
      " 127 128 129 130 131 132 133 134 135 136 137 138 139 140 141 142 143 144\n",
      " 145 146 147 148 149 150 151 152 153 154 155 156 157 158 159 160 161 162\n",
      " 163 164 165 166 167 168 169 170 171 172 173 174 175 176 177 178 179 180\n",
      " 181 182 183 184 185 186 187 188 189 190 191 192 193 194 195 196 197 198\n",
      " 199 200 201 202 203 204 205 206 207 208 209 210 211 212 213 214 215 216\n",
      " 217 218 219 220 221 222 223 224 225 226 227 228 229 230 231 232 233 234\n",
      " 235 236 237 238 239 240 241 242 243 244 245 246 247 248 249 250 251 252\n",
      " 253 254 255 256 257 258 259 260 261 262 263 264 265 266 267 268 269 270\n",
      " 271 272 273 274 275 276 277 278 279 280 281 282 283 284 285 286 287 288\n",
      " 289 290 291 292 293 294 295 296 297 298 299 300 301 302 303 304 305 306\n",
      " 307 308 309 310 311 312 313 314 315 316 317 318 319 320 321 322 323 324\n",
      " 325 326 327 328 329 330 331 332 333 334 335 336 337 338 339 340 341 342\n",
      " 343 344 345 346 347 348 349 350 351 352 353 354 355 356 357 358 359 360\n",
      " 361 362 363 364 365 366 367 368 369 370 371 372 373 374 375 376 377 378\n",
      " 379 380 381 382 383 384 385 386 387 388 389 390 391 392 393 394 395 396\n",
      " 397 398 399]\n"
     ]
    },
    {
     "data": {
      "image/png": "[encoded data removed]",
      "text/plain": [
       "<Figure size 432x288 with 1 Axes>"
      ]
     },
     "metadata": {
      "needs_background": "light"
     },
     "output_type": "display_data"
    },
    {
     "name": "stdout",
     "output_type": "stream",
     "text": [
      "245\n"
     ]
    },
    {
     "data": {
      "text/plain": [
       "<Figure size 432x288 with 0 Axes>"
      ]
     },
     "metadata": {},
     "output_type": "display_data"
    }
   ],
   "source": [
    "#params = {\n",
    "   # 'C': [0.1, 1, 10, 100, 1000],\n",
    "  #  'gamma': [1, 0.1, 0.01, 0.001, 0.0001],\n",
    " #   'kernel': ['rbf', 'linear', 'poly']\n",
    "#}\n",
    "params = {\n",
    "    'C': 400,\n",
    "    'gamma': 0.001,\n",
    "    'kernel': 'rbf'\n",
    "}\n",
    "#0.1, 0.5,\n",
    "n_range = [ 1, 2.5, 5, 7.5, 10]\n",
    "n_range = np.arange(1, 400, 1)\n",
    "print(n_range)\n",
    "test_accs, train_accs, best_metric = test_hyperparams(SVC, \n",
    "                                                      n_range, \n",
    "                                                      params,\n",
    "                                                      'C' \n",
    "                                                     )\n",
    "\n",
    "plot_hyperparam_test(test_accs, train_accs, n_range,  \"MNIST\", \"SVM\", \"C\")\n",
    "#print(\"test acc: \", test_accs)\n",
    "#print(\"train acc: \", train_accs)\n",
    "print(best_metric)\n",
    "params['C'] = best_metric"
   ]
  },
  {
   "cell_type": "code",
   "execution_count": 93,
   "metadata": {},
   "outputs": [
    {
     "data": {
      "image/png": "[encoded data removed]",
      "text/plain": [
       "<Figure size 432x288 with 1 Axes>"
      ]
     },
     "metadata": {
      "needs_background": "light"
     },
     "output_type": "display_data"
    },
    {
     "name": "stdout",
     "output_type": "stream",
     "text": [
      "0.019299999999999942\n"
     ]
    },
    {
     "data": {
      "text/plain": [
       "<Figure size 432x288 with 0 Axes>"
      ]
     },
     "metadata": {},
     "output_type": "display_data"
    }
   ],
   "source": [
    "params = {\n",
    "    'C': 400,\n",
    "    'gamma': 0.001,\n",
    "    'kernel': 'rbf'\n",
    "}\n",
    "n_range = [0.03, 0.02, 0.01, 0.001, 0.0001]\n",
    "n_range = np.arange(0.01, 0.03, 0.0001)\n",
    "test_accs, train_accs, best_metric = test_hyperparams(SVC, \n",
    "                                                      n_range, \n",
    "                                                      params,\n",
    "                                                      'gamma' \n",
    "                                                     )\n",
    "\n",
    "plot_hyperparam_test(test_accs, train_accs, n_range,  \"MNIST\", \"SVM\", \"gamma\")\n",
    "#print(\"test acc: \", test_accs)\n",
    "#print(\"train acc: \", train_accs)\n",
    "print(best_metric)\n",
    "params['gamma'] = best_metric"
   ]
  },
  {
   "cell_type": "code",
   "execution_count": 105,
   "metadata": {},
   "outputs": [
    {
     "data": {
      "image/png": "[encoded data removed]",
      "text/plain": [
       "<Figure size 432x288 with 1 Axes>"
      ]
     },
     "metadata": {
      "needs_background": "light"
     },
     "output_type": "display_data"
    },
    {
     "name": "stdout",
     "output_type": "stream",
     "text": [
      "rbf\n"
     ]
    },
    {
     "data": {
      "text/plain": [
       "<Figure size 432x288 with 0 Axes>"
      ]
     },
     "metadata": {},
     "output_type": "display_data"
    }
   ],
   "source": [
    "n_range = ['rbf', 'linear', 'poly']\n",
    "test_accs, train_accs, best_metric = test_hyperparams(SVC, \n",
    "                                                      n_range, \n",
    "                                                      params,\n",
    "                                                      'kernel' \n",
    "                                                     )\n",
    "\n",
    "plot_hyperparam_test(test_accs, train_accs, n_range,  \"MNIST\", \"SVM\", \"kernel\")\n",
    "#print(\"test acc: \", test_accs)\n",
    "#print(\"train acc: \", train_accs)\n",
    "print(best_metric)\n",
    "params['kernel'] = best_metric"
   ]
  },
  {
   "cell_type": "code",
   "execution_count": 109,
   "metadata": {},
   "outputs": [
    {
     "data": {
      "image/png": "[encoded data removed]",
      "text/plain": [
       "<Figure size 432x288 with 1 Axes>"
      ]
     },
     "metadata": {
      "needs_background": "light"
     },
     "output_type": "display_data"
    },
    {
     "name": "stdout",
     "output_type": "stream",
     "text": [
      "[76.42276422764228, 74.79674796747967, 74.79674796747967]\n"
     ]
    },
    {
     "data": {
      "text/plain": [
       "<Figure size 432x288 with 0 Axes>"
      ]
     },
     "metadata": {},
     "output_type": "display_data"
    }
   ],
   "source": [
    "plt.bar(n_range, test_accs, width=0.5)\n",
    "plt.xlabel(\"Kernel\")\n",
    "plt.ylabel(\"Accuracy\")\n",
    "plt.title(\"Accuracy on diabetes with different kernels\")\n",
    "axes = plt.gca()\n",
    "axes.set_ylim([70,80])\n",
    "\n",
    "plt.show()\n",
    "plt.savefig(\"./output/kernel_bars_mnist.png\")\n",
    "print(test_accs)"
   ]
  },
  {
   "cell_type": "code",
   "execution_count": 101,
   "metadata": {},
   "outputs": [
    {
     "data": {
      "image/png": "[encoded data removed]",
      "text/plain": [
       "<Figure size 432x288 with 1 Axes>"
      ]
     },
     "metadata": {
      "needs_background": "light"
     },
     "output_type": "display_data"
    },
    {
     "name": "stdout",
     "output_type": "stream",
     "text": [
      "test acc:  [74.79674796747967, 69.10569105691057, 73.98373983739837, 67.47967479674797, 66.66666666666666, 62.601626016260155, 61.78861788617886, 60.97560975609756]\n",
      "1\n"
     ]
    },
    {
     "data": {
      "text/plain": [
       "<Figure size 432x288 with 0 Axes>"
      ]
     },
     "metadata": {},
     "output_type": "display_data"
    }
   ],
   "source": [
    "params['kernel'] = 'poly'\n",
    "params['degree'] = 1\n",
    "\n",
    "n_range = np.arange(1, 9, 1)\n",
    "test_accs, train_accs, best_metric = test_hyperparams(SVC, \n",
    "                                                      n_range, \n",
    "                                                      params,\n",
    "                                                      'degree' \n",
    "                                                     )\n",
    "\n",
    "plot_hyperparam_test(test_accs, train_accs, n_range,  \"MNIST\", \"SVM\", \"degree\")\n",
    "print(\"test acc: \", test_accs)\n",
    "#print(\"train acc: \", train_accs)\n",
    "print(best_metric)\n",
    "params['degree'] = best_metric"
   ]
  },
  {
   "cell_type": "code",
   "execution_count": 110,
   "metadata": {},
   "outputs": [
    {
     "name": "stdout",
     "output_type": "stream",
     "text": [
      "0.6753246753246753\n"
     ]
    }
   ],
   "source": [
    "params['kernel'] = 'rbf'\n",
    "\n",
    "clf = SVC(**params)\n",
    "clf = clf.fit(X_train, y_train)\n",
    "\n",
    "y_pred = clf.predict(X_holdout_test)\n",
    "print(metrics.accuracy_score(y_holdout_test, y_pred))\n",
    "svm_test_acc = metrics.accuracy_score(y_holdout_test, y_pred)"
   ]
  },
  {
   "cell_type": "markdown",
   "metadata": {},
   "source": [
    "# ADABOOST"
   ]
  },
  {
   "cell_type": "code",
   "execution_count": 111,
   "metadata": {},
   "outputs": [
    {
     "name": "stdout",
     "output_type": "stream",
     "text": [
      "Fitting 5 folds for each of 600 candidates, totalling 3000 fits\n"
     ]
    },
    {
     "name": "stderr",
     "output_type": "stream",
     "text": [
      "[Parallel(n_jobs=-1)]: Using backend LokyBackend with 12 concurrent workers.\n",
      "[Parallel(n_jobs=-1)]: Done   1 tasks      | elapsed:    1.3s\n",
      "[Parallel(n_jobs=-1)]: Done   8 tasks      | elapsed:    1.4s\n",
      "[Parallel(n_jobs=-1)]: Done  17 tasks      | elapsed:    1.5s\n",
      "[Parallel(n_jobs=-1)]: Done  26 tasks      | elapsed:    1.6s\n",
      "[Parallel(n_jobs=-1)]: Done  37 tasks      | elapsed:    1.7s\n",
      "[Parallel(n_jobs=-1)]: Done  48 tasks      | elapsed:    1.8s\n",
      "[Parallel(n_jobs=-1)]: Done  61 tasks      | elapsed:    2.1s\n",
      "[Parallel(n_jobs=-1)]: Done  74 tasks      | elapsed:    2.2s\n",
      "[Parallel(n_jobs=-1)]: Done  89 tasks      | elapsed:    2.4s\n",
      "[Parallel(n_jobs=-1)]: Done 104 tasks      | elapsed:    2.5s\n",
      "[Parallel(n_jobs=-1)]: Done 121 tasks      | elapsed:    2.8s\n",
      "[Parallel(n_jobs=-1)]: Done 138 tasks      | elapsed:    3.1s\n",
      "[Parallel(n_jobs=-1)]: Done 157 tasks      | elapsed:    3.3s\n",
      "[Parallel(n_jobs=-1)]: Done 176 tasks      | elapsed:    3.5s\n",
      "[Parallel(n_jobs=-1)]: Done 197 tasks      | elapsed:    3.9s\n",
      "[Parallel(n_jobs=-1)]: Done 218 tasks      | elapsed:    4.3s\n",
      "[Parallel(n_jobs=-1)]: Done 241 tasks      | elapsed:    4.5s\n",
      "[Parallel(n_jobs=-1)]: Done 264 tasks      | elapsed:    4.8s\n",
      "[Parallel(n_jobs=-1)]: Done 289 tasks      | elapsed:    5.3s\n",
      "[Parallel(n_jobs=-1)]: Done 314 tasks      | elapsed:    5.5s\n",
      "[Parallel(n_jobs=-1)]: Done 341 tasks      | elapsed:    5.9s\n",
      "[Parallel(n_jobs=-1)]: Done 368 tasks      | elapsed:    6.4s\n",
      "[Parallel(n_jobs=-1)]: Done 397 tasks      | elapsed:    6.7s\n",
      "[Parallel(n_jobs=-1)]: Done 426 tasks      | elapsed:    7.2s\n",
      "[Parallel(n_jobs=-1)]: Done 457 tasks      | elapsed:    7.6s\n",
      "[Parallel(n_jobs=-1)]: Done 488 tasks      | elapsed:    8.0s\n",
      "[Parallel(n_jobs=-1)]: Done 521 tasks      | elapsed:    8.7s\n",
      "[Parallel(n_jobs=-1)]: Done 554 tasks      | elapsed:    9.0s\n",
      "[Parallel(n_jobs=-1)]: Done 589 tasks      | elapsed:    9.7s\n",
      "[Parallel(n_jobs=-1)]: Done 624 tasks      | elapsed:   10.0s\n",
      "[Parallel(n_jobs=-1)]: Done 661 tasks      | elapsed:   10.8s\n",
      "[Parallel(n_jobs=-1)]: Done 698 tasks      | elapsed:   11.2s\n",
      "[Parallel(n_jobs=-1)]: Done 737 tasks      | elapsed:   11.9s\n",
      "[Parallel(n_jobs=-1)]: Done 776 tasks      | elapsed:   12.3s\n",
      "[Parallel(n_jobs=-1)]: Done 817 tasks      | elapsed:   13.2s\n",
      "[Parallel(n_jobs=-1)]: Done 858 tasks      | elapsed:   13.6s\n",
      "[Parallel(n_jobs=-1)]: Done 901 tasks      | elapsed:   14.3s\n",
      "[Parallel(n_jobs=-1)]: Done 944 tasks      | elapsed:   14.8s\n",
      "[Parallel(n_jobs=-1)]: Done 989 tasks      | elapsed:   15.5s\n",
      "[Parallel(n_jobs=-1)]: Done 1034 tasks      | elapsed:   16.3s\n",
      "[Parallel(n_jobs=-1)]: Done 1081 tasks      | elapsed:   16.9s\n",
      "[Parallel(n_jobs=-1)]: Done 1128 tasks      | elapsed:   17.9s\n",
      "[Parallel(n_jobs=-1)]: Done 1177 tasks      | elapsed:   18.6s\n",
      "[Parallel(n_jobs=-1)]: Done 1226 tasks      | elapsed:   19.3s\n",
      "[Parallel(n_jobs=-1)]: Done 1277 tasks      | elapsed:   20.3s\n",
      "[Parallel(n_jobs=-1)]: Done 1328 tasks      | elapsed:   21.1s\n",
      "[Parallel(n_jobs=-1)]: Done 1381 tasks      | elapsed:   21.9s\n",
      "[Parallel(n_jobs=-1)]: Done 1434 tasks      | elapsed:   22.9s\n",
      "[Parallel(n_jobs=-1)]: Done 1489 tasks      | elapsed:   23.9s\n",
      "[Parallel(n_jobs=-1)]: Done 1544 tasks      | elapsed:   24.7s\n",
      "[Parallel(n_jobs=-1)]: Done 1601 tasks      | elapsed:   25.5s\n",
      "[Parallel(n_jobs=-1)]: Done 1658 tasks      | elapsed:   26.4s\n",
      "[Parallel(n_jobs=-1)]: Done 1717 tasks      | elapsed:   27.4s\n",
      "[Parallel(n_jobs=-1)]: Done 1776 tasks      | elapsed:   28.1s\n",
      "[Parallel(n_jobs=-1)]: Batch computation too fast (0.1911s.) Setting batch_size=2.\n",
      "[Parallel(n_jobs=-1)]: Done 1838 tasks      | elapsed:   29.1s\n",
      "[Parallel(n_jobs=-1)]: Done 1960 tasks      | elapsed:   30.9s\n",
      "[Parallel(n_jobs=-1)]: Done 2086 tasks      | elapsed:   33.3s\n",
      "[Parallel(n_jobs=-1)]: Done 2212 tasks      | elapsed:   35.5s\n",
      "[Parallel(n_jobs=-1)]: Done 2342 tasks      | elapsed:   37.7s\n",
      "[Parallel(n_jobs=-1)]: Done 2472 tasks      | elapsed:   39.9s\n",
      "[Parallel(n_jobs=-1)]: Done 2606 tasks      | elapsed:   42.3s\n",
      "[Parallel(n_jobs=-1)]: Done 2740 tasks      | elapsed:   44.5s\n",
      "[Parallel(n_jobs=-1)]: Done 2878 tasks      | elapsed:   46.9s\n"
     ]
    },
    {
     "name": "stdout",
     "output_type": "stream",
     "text": [
      "1.0\n",
      "0.7317073170731707\n",
      "{'base_estimator__criterion': 'gini', 'base_estimator__max_depth': 6, 'base_estimator__splitter': 'best', 'n_estimators': 111}\n"
     ]
    },
    {
     "name": "stderr",
     "output_type": "stream",
     "text": [
      "[Parallel(n_jobs=-1)]: Done 3000 out of 3000 | elapsed:   49.3s finished\n"
     ]
    }
   ],
   "source": [
    "tune_adaboost(X_train, y_train, X_test, y_test)"
   ]
  },
  {
   "cell_type": "code",
   "execution_count": 117,
   "metadata": {},
   "outputs": [
    {
     "data": {
      "image/png": "[encoded data removed]",
      "text/plain": [
       "<Figure size 432x288 with 1 Axes>"
      ]
     },
     "metadata": {
      "needs_background": "light"
     },
     "output_type": "display_data"
    },
    {
     "name": "stdout",
     "output_type": "stream",
     "text": [
      "66\n"
     ]
    },
    {
     "data": {
      "text/plain": [
       "<Figure size 432x288 with 0 Axes>"
      ]
     },
     "metadata": {},
     "output_type": "display_data"
    }
   ],
   "source": [
    "#params ={'max_depth': 6, 'min_samples_split': 4, 'min_samples_leaf': 1}\n",
    "base_estimator = tree.DecisionTreeClassifier(max_depth=4, min_samples_split=4)\n",
    "params = {'n_estimators': 111, 'base_estimator':base_estimator}\n",
    "\n",
    "n_range = np.arange(1, 100, 1)\n",
    "test_accs, train_accs, best_metric = test_hyperparams(AdaBoostClassifier, \n",
    "                                                      n_range, \n",
    "                                                      params,\n",
    "                                                      'n_estimators' \n",
    "                                                     )\n",
    "\n",
    "plot_hyperparam_test(test_accs, train_accs, n_range,  \"MNIST\", \"AdaBoost\", \"n_estimators\")\n",
    "#print(\"test acc: \", test_accs)\n",
    "#print(\"train acc: \", train_accs)\n",
    "print(best_metric)\n",
    "params['n_estimators'] = best_metric"
   ]
  },
  {
   "cell_type": "code",
   "execution_count": null,
   "metadata": {},
   "outputs": [],
   "source": []
  },
  {
   "cell_type": "code",
   "execution_count": 89,
   "metadata": {},
   "outputs": [
    {
     "name": "stdout",
     "output_type": "stream",
     "text": [
      "test acc:  [75.453446191052, 85.36880290205562, 88.27085852478838, 89.35912938331319, 90.81015719467956, 91.41475211608223, 91.53567110036276, 92.86577992744861, 93.47037484885126, 93.10761789600967, 93.5912938331318, 92.62394195888754, 93.5912938331318, 93.10761789600967, 94.19588875453447]\n"
     ]
    }
   ],
   "source": [
    "print(\"test acc: \", test_accs)"
   ]
  },
  {
   "cell_type": "code",
   "execution_count": 132,
   "metadata": {},
   "outputs": [
    {
     "name": "stdout",
     "output_type": "stream",
     "text": [
      "0.6883116883116883\n"
     ]
    }
   ],
   "source": [
    "params = {\"base_estimator__criterion\" : [\"gini\", \"entropy\"],\n",
    "                  \"base_estimator__splitter\" :   [\"best\", \"random\"],\n",
    "                  \"base_estimator__max_depth\" :   np.arange(2, 12, 1),\n",
    "                  \"n_estimators\": np.arange(1, 150, 10)\n",
    "                 }\n",
    "\n",
    "\n",
    "  \n",
    "clf = AdaBoostClassifier(base_estimator=tree.DecisionTreeClassifier(max_depth=8), n_estimators=250)\n",
    "clf.fit(X_train, y_train)                                                                     \n",
    "y_pred = clf.predict(X_holdout_test)\n",
    "print(metrics.accuracy_score(y_holdout_test, y_pred))\n",
    "adaboost_test_acc = metrics.accuracy_score(y_holdout_test, y_pred)"
   ]
  },
  {
   "cell_type": "markdown",
   "metadata": {},
   "source": [
    "# CNN"
   ]
  },
  {
   "cell_type": "code",
   "execution_count": 11,
   "metadata": {},
   "outputs": [
    {
     "name": "stderr",
     "output_type": "stream",
     "text": [
      "Using TensorFlow backend.\n"
     ]
    }
   ],
   "source": [
    "from keras.applications.vgg16 import VGG16, preprocess_input\n"
   ]
  },
  {
   "cell_type": "code",
   "execution_count": 84,
   "metadata": {},
   "outputs": [],
   "source": [
    "#num_category = 10 \n",
    "\n",
    "#y_train_oh = keras.utils.to_categorical(y_train, num_category)\n",
    "#y_test_oh = keras.utils.to_categorical(y_test, num_category)"
   ]
  },
  {
   "cell_type": "code",
   "execution_count": 85,
   "metadata": {},
   "outputs": [],
   "source": []
  },
  {
   "cell_type": "code",
   "execution_count": 86,
   "metadata": {},
   "outputs": [],
   "source": []
  },
  {
   "cell_type": "code",
   "execution_count": 87,
   "metadata": {},
   "outputs": [
    {
     "name": "stdout",
     "output_type": "stream",
     "text": [
      "_________________________________________________________________\n",
      "Layer (type)                 Output Shape              Param #   \n",
      "=================================================================\n",
      "dense_32 (Dense)             (None, 32)                25120     \n",
      "_________________________________________________________________\n",
      "dense_33 (Dense)             (None, 10)                330       \n",
      "=================================================================\n",
      "Total params: 25,450\n",
      "Trainable params: 25,450\n",
      "Non-trainable params: 0\n",
      "_________________________________________________________________\n"
     ]
    }
   ],
   "source": []
  },
  {
   "cell_type": "code",
   "execution_count": 32,
   "metadata": {},
   "outputs": [
    {
     "name": "stdout",
     "output_type": "stream",
     "text": [
      "_________________________________________________________________\n",
      "Layer (type)                 Output Shape              Param #   \n",
      "=================================================================\n",
      "dense_54 (Dense)             (None, 8)                 72        \n",
      "_________________________________________________________________\n",
      "dense_55 (Dense)             (None, 8)                 72        \n",
      "_________________________________________________________________\n",
      "batch_normalization_13 (Batc (None, 8)                 32        \n",
      "_________________________________________________________________\n",
      "dense_56 (Dense)             (None, 16)                144       \n",
      "_________________________________________________________________\n",
      "dropout_13 (Dropout)         (None, 16)                0         \n",
      "_________________________________________________________________\n",
      "dense_57 (Dense)             (None, 1)                 17        \n",
      "=================================================================\n",
      "Total params: 337\n",
      "Trainable params: 321\n",
      "Non-trainable params: 16\n",
      "_________________________________________________________________\n"
     ]
    },
    {
     "data": {
      "image/png": "[encoded data removed]",
      "text/plain": [
       "<Figure size 432x288 with 1 Axes>"
      ]
     },
     "metadata": {
      "needs_background": "light"
     },
     "output_type": "display_data"
    },
    {
     "name": "stdout",
     "output_type": "stream",
     "text": [
      "Test loss:  0.7604246236444488\n",
      "Test accuracy:  0.7479674859744746\n"
     ]
    }
   ],
   "source": [
    "model = keras.models.Sequential()\n",
    "model.add(Dense(8, activation='relu', kernel_regularizer=l2(.1), input_dim = X_train.shape[1]))\n",
    "model.add(Dense(8, activation='relu', kernel_regularizer=l2(.05)))\n",
    "model.add(BatchNormalization())\n",
    "model.add(Dense(16, activation='relu'))\n",
    "model.add(Dropout(0.75))\n",
    "model.add(Dense(1, activation='sigmoid'))\n",
    "opt = keras.optimizers.Adam(lr=0.001)\n",
    "loss_fn = keras.losses.binary_crossentropy\n",
    "\n",
    "model.compile(loss=loss_fn,\n",
    "                  optimizer=opt,\n",
    "                  metrics=['accuracy'])\n",
    "model.summary()\n",
    "\n",
    "history = model.fit(X_train, y_train, batch_size=16, epochs=50, verbose=False, validation_split=.1)\n",
    "loss, accuracy  = model.evaluate(X_test, y_test, verbose=False)\n",
    "\n",
    "plt.plot(history.history['acc'])\n",
    "plt.plot(history.history['val_acc'])\n",
    "plt.title('model accuracy MNIST')\n",
    "plt.ylabel('accuracy')\n",
    "plt.xlabel('epoch')\n",
    "plt.legend(['training', 'validation'], loc='best')\n",
    "plt.show()\n",
    "\n",
    "print('Test loss: ', loss)\n",
    "print('Test accuracy: ', accuracy)\n"
   ]
  },
  {
   "cell_type": "code",
   "execution_count": null,
   "metadata": {},
   "outputs": [],
   "source": []
  },
  {
   "cell_type": "code",
   "execution_count": null,
   "metadata": {},
   "outputs": [],
   "source": []
  },
  {
   "cell_type": "code",
   "execution_count": null,
   "metadata": {},
   "outputs": [],
   "source": []
  },
  {
   "cell_type": "code",
   "execution_count": null,
   "metadata": {},
   "outputs": [],
   "source": [
    "\n"
   ]
  },
  {
   "cell_type": "code",
   "execution_count": null,
   "metadata": {},
   "outputs": [],
   "source": []
  },
  {
   "cell_type": "code",
   "execution_count": null,
   "metadata": {},
   "outputs": [],
   "source": [
    "\n",
    "\n"
   ]
  }
 ],
 "metadata": {
  "kernelspec": {
   "display_name": "Python 3",
   "language": "python",
   "name": "python3"
  },
  "language_info": {
   "codemirror_mode": {
    "name": "ipython",
    "version": 3
   },
   "file_extension": ".py",
   "mimetype": "text/x-python",
   "name": "python",
   "nbconvert_exporter": "python",
   "pygments_lexer": "ipython3",
   "version": "3.5.6"
  }
 },
 "nbformat": 4,
 "nbformat_minor": 2
}

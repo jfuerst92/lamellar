{
 "cells": [
  {
   "cell_type": "code",
   "execution_count": 1,
   "metadata": {},
   "outputs": [
    {
     "name": "stderr",
     "output_type": "stream",
     "text": [
      "C:\\Users\\fuers\\Anaconda3\\envs\\CS6476\\lib\\site-packages\\h5py\\__init__.py:36: FutureWarning: Conversion of the second argument of issubdtype from `float` to `np.floating` is deprecated. In future, it will be treated as `np.float64 == np.dtype(float).type`.\n",
      "  from ._conv import register_converters as _register_converters\n"
     ]
    }
   ],
   "source": [
    "import numpy as np\n",
    "import pandas as pd\n",
    "import pprint\n",
    "from sklearn import metrics\n",
    "from sklearn.model_selection import train_test_split\n",
    "from sklearn import tree\n",
    "from sklearn.datasets import load_digits\n",
    "from IPython.display import display, HTML\n",
    "from sklearn.neighbors import KNeighborsClassifier\n",
    "from sklearn.metrics import classification_report\n",
    "import math, time\n",
    "import matplotlib.pyplot as plt\n",
    "import seaborn as sns\n",
    "from sklearn.model_selection import learning_curve\n",
    "from sklearn.model_selection import validation_curve\n",
    "from sklearn.model_selection import StratifiedShuffleSplit\n",
    "from sklearn.ensemble import AdaBoostClassifier\n",
    "from sklearn.model_selection import cross_val_score\n",
    "import tensorflow\n",
    "import tensorflow.keras as keras\n",
    "from tensorflow.keras.layers import Dense, Conv2D, Reshape, MaxPooling2D, Dropout, Flatten, Activation, BatchNormalization, ZeroPadding2D\n",
    "from sklearn.model_selection import GridSearchCV\n",
    "from sklearn.svm import SVC\n"
   ]
  },
  {
   "cell_type": "code",
   "execution_count": 2,
   "metadata": {},
   "outputs": [],
   "source": [
    "hyperparameters = {\n",
    "    'tree': {\n",
    "\n",
    "        'max_depth': [2, 4, 8, 16, 32, 64, 128, None],\n",
    "        'min_samples_split':  [1, 2, 4, 8, 16, 32, 64, 128, 256, 512],\n",
    "        'min_samples_leaf':  [1, 2, 4, 8, 16, 32, 64, 128, 256, 512],\n",
    "\n",
    "\n",
    "    },\n",
    "    'SVM': {\n",
    "        'C': [0.1, 1, 10, 100, 1000],\n",
    "        'gamma': [1, 0.1, 0.01, 0.001, 0.0001],\n",
    "        'kernel': ['rbf', 'linear', 'poly']\n",
    "    },\n",
    "    'KNN': {\n",
    "        'n_neighbors': np.arange(1, 10, 1)\n",
    "    },\n",
    "    'adaboost': {\n",
    "        'n_estimators': np.arange(1, 150, 10),\n",
    "\n",
    "    }\n",
    "\n",
    "}"
   ]
  },
  {
   "cell_type": "code",
   "execution_count": 3,
   "metadata": {},
   "outputs": [],
   "source": [
    "def load_data():\n",
    "    df_train = pd.read_csv(\"data/mnist/csv_format/train.csv\")\n",
    "    df_test = pd.read_csv(\"data/mnist/csv_format/test.csv\")\n",
    "    X = []\n",
    "    y = []\n",
    "    for row in df_train.iterrows() :\n",
    "        label = row[1][0]\n",
    "        image = list(row[1][1:])\n",
    "        image = np.array(image) / 255 #normalize vals\n",
    "        X.append(image)\n",
    "        y.append(label)\n",
    "\n",
    "    X = np.array(X)\n",
    "    y = np.array(y)\n",
    "    sns.countplot(df_train['label'])\n",
    "    plt.savefig(\"./output/label_count_mnist.png\")\n",
    "    return(X, y)\n",
    "\n",
    "def split_data(X, y, data_size=1.0, train_size=0.8, strat=False):\n",
    "    if strat:\n",
    "        sss = StratifiedShuffleSplit(n_splits=1, random_state=0, train_size=train_size, test_size=train_size/4)\n",
    "        for train_index, test_index in sss.split(X, y):\n",
    "            print(\"hm\")\n",
    "            X_train = X[train_index]\n",
    "            X_test = X[test_index]\n",
    "            y_train, y_test = y[train_index], y[test_index]\n",
    "    else:\n",
    "        X_train, X_test, y_train, y_test = train_test_split(X, y, train_size=train_size, test_size=train_size/4)\n",
    "    return(X_train, y_train, X_test, y_test)\n"
   ]
  },
  {
   "cell_type": "code",
   "execution_count": 4,
   "metadata": {},
   "outputs": [
    {
     "data": {
      "image/png": "[encoded data removed]",
      "text/plain": [
       "<Figure size 432x288 with 1 Axes>"
      ]
     },
     "metadata": {
      "needs_background": "light"
     },
     "output_type": "display_data"
    }
   ],
   "source": [
    "X, y = load_data()\n",
    "\n"
   ]
  },
  {
   "cell_type": "code",
   "execution_count": 5,
   "metadata": {},
   "outputs": [
    {
     "name": "stdout",
     "output_type": "stream",
     "text": [
      "(3306, 784)\n",
      "(827, 784)\n",
      "(672, 784)\n"
     ]
    }
   ],
   "source": [
    "X_train, X_holdout_test, y_train, y_holdout_test = train_test_split(X, y, test_size=0.016)\n",
    "X_train, y_train, X_test, y_test = split_data(X_train, y_train, train_size=0.08)\n",
    "print(X_train.shape)\n",
    "print(X_test.shape)\n",
    "print(X_holdout_test.shape)"
   ]
  },
  {
   "cell_type": "code",
   "execution_count": 6,
   "metadata": {},
   "outputs": [],
   "source": [
    "\n",
    "def test_hyperparams(classifier, range, args, arg_to_iterate):\n",
    "    train_accs = []\n",
    "    test_accs = []\n",
    "    a = args\n",
    "\n",
    "    for i in range:\n",
    "        a[arg_to_iterate] = i\n",
    "        clf = classifier(**a)\n",
    "        clf = clf.fit(X_train, y_train)\n",
    "        train_score = clf.score(X_train, y_train)\n",
    "        test_score =clf.score(X_test, y_test)\n",
    "        #print(\"i=%d, accuracy=%.2f%%\" % (i, test_score * 100))\n",
    "        train_accs.append(train_score* 100)\n",
    "        test_accs.append(test_score* 100)\n",
    "        best_metric = range[np.argmax(test_accs)]\n",
    "    return test_accs, train_accs, best_metric\n",
    "\n",
    "def plot_hyperparam_test(test_accs, train_accs, n_range, dataset, model_name, param_name, hist=False):\n",
    "\n",
    "    plt.plot(n_range, train_accs, label = \"train acc\")\n",
    "    plt.plot(n_range, test_accs, label = \"test acc\")\n",
    "    plt.legend()\n",
    "\n",
    "    plt.xlabel(param_name)\n",
    "    plt.ylabel(\"test accuracy\")\n",
    "    title = \"\" + model_name + \" score for \" + param_name\n",
    "    plt.title(title)\n",
    "    plt.show()\n",
    "    plt.savefig(\"./output/\" + dataset + \"-\" + model_name + \"-\" + param_name + \".png\")\n",
    "\n",
    "def run_gridsearchCV(classifier, params, X_train, y_train, X_test, y_test):\n",
    "    grid = GridSearchCV(classifier, param_grid=params, cv=5, verbose=10, n_jobs=-1)\n",
    "    grid.fit(X_train, y_train)\n",
    "    train_score = grid.score(X_train, y_train)\n",
    "    test_score = grid.score(X_test, y_test)\n",
    "    return(train_score, test_score, grid.best_params_)\n",
    "\n",
    "def tune_knn(X_train, y_train, X_test, y_test):\n",
    "    kVals = np.arange(1, 30, 1)\n",
    "    gscv_train, gscv_test, best_params = run_gridsearchCV(\n",
    "        KNeighborsClassifier(),\n",
    "        {\n",
    "            'n_neighbors': kVals\n",
    "        },\n",
    "        X_train, y_train, X_test, y_test\n",
    "    )\n",
    "    print(gscv_train)\n",
    "    print(gscv_test)\n",
    "    print(best_params)\n",
    "    \n",
    "def tune_decision_tree(X_train, y_train, X_test, y_test):\n",
    "    kVals = np.arange(1, 30, 1)\n",
    "    gscv_train, gscv_test, best_params = run_gridsearchCV(\n",
    "        tree.DecisionTreeClassifier(),\n",
    "        {\n",
    "           'max_depth': [2, 4, 8, 16, 32, 64, 128, None],\n",
    "            'min_samples_split':  [1, 2, 4, 8, 16, 32, 64, 128, 256, 512],\n",
    "            'min_samples_leaf':  [1, 2, 4, 8, 16, 32, 64, 128, 256, 512],\n",
    "        },\n",
    "        X_train, y_train, X_test, y_test\n",
    "    )\n",
    "    print(gscv_train)\n",
    "    print(gscv_test)\n",
    "    print(best_params)\n",
    "    \n",
    "def tune_SVM(X_train, y_train, X_test, y_test):\n",
    "    kVals = np.arange(1, 30, 1)\n",
    "    gscv_train, gscv_test, best_params = run_gridsearchCV(\n",
    "        SVC(),\n",
    "        {\n",
    "            'C': [0.1, 1, 10, 100, 1000],\n",
    "            'gamma': [1, 0.1, 0.01, 0.001, 0.0001],\n",
    "            'kernel': ['rbf', 'linear', 'poly']\n",
    "        },\n",
    "        X_train, y_train, X_test, y_test\n",
    "    )\n",
    "    print(gscv_train)\n",
    "    print(gscv_test)\n",
    "    print(best_params)\n",
    "    \n",
    "def tune_adaboost(X_train, y_train, X_test, y_test):\n",
    "    kVals = np.arange(1, 30, 1)\n",
    "    \n",
    "    params = {\"base_estimator__criterion\" : [\"gini\", \"entropy\"],\n",
    "                  \"base_estimator__splitter\" :   [\"best\", \"random\"],\n",
    "                  \"base_estimator__max_depth\" :   np.arange(2, 12, 1),\n",
    "                  \"n_estimators\": np.arange(1, 150, 10)\n",
    "                 }\n",
    "\n",
    "\n",
    "  \n",
    "    clf = AdaBoostClassifier(base_estimator = tree.DecisionTreeClassifier(random_state = 11, max_features = \"auto\"))\n",
    "    \n",
    "    gscv_train, gscv_test, best_params = run_gridsearchCV(\n",
    "        clf,\n",
    "        params,\n",
    "        X_train, y_train, X_test, y_test\n",
    "    )\n",
    "    print(gscv_train)\n",
    "    print(gscv_test)\n",
    "    print(best_params)\n",
    "\n",
    "\n",
    "\n"
   ]
  },
  {
   "cell_type": "markdown",
   "metadata": {},
   "source": [
    "# KNN"
   ]
  },
  {
   "cell_type": "code",
   "execution_count": 10,
   "metadata": {},
   "outputs": [
    {
     "name": "stdout",
     "output_type": "stream",
     "text": [
      "Fitting 5 folds for each of 29 candidates, totalling 145 fits\n"
     ]
    },
    {
     "name": "stderr",
     "output_type": "stream",
     "text": [
      "[Parallel(n_jobs=-1)]: Using backend LokyBackend with 12 concurrent workers.\n",
      "[Parallel(n_jobs=-1)]: Done   1 tasks      | elapsed:   10.2s\n",
      "[Parallel(n_jobs=-1)]: Done   8 tasks      | elapsed:   27.5s\n",
      "[Parallel(n_jobs=-1)]: Done  17 tasks      | elapsed:   40.2s\n",
      "[Parallel(n_jobs=-1)]: Done  26 tasks      | elapsed:   53.2s\n",
      "[Parallel(n_jobs=-1)]: Done  37 tasks      | elapsed:  1.1min\n",
      "[Parallel(n_jobs=-1)]: Done  48 tasks      | elapsed:  1.2min\n",
      "[Parallel(n_jobs=-1)]: Done  61 tasks      | elapsed:  1.3min\n",
      "[Parallel(n_jobs=-1)]: Done  74 tasks      | elapsed:  1.5min\n",
      "[Parallel(n_jobs=-1)]: Done  89 tasks      | elapsed:  1.6min\n",
      "[Parallel(n_jobs=-1)]: Done 104 tasks      | elapsed:  1.7min\n",
      "[Parallel(n_jobs=-1)]: Done 121 tasks      | elapsed:  1.8min\n",
      "[Parallel(n_jobs=-1)]: Done 137 out of 145 | elapsed:  1.9min remaining:    6.7s\n",
      "[Parallel(n_jobs=-1)]: Done 145 out of 145 | elapsed:  2.0min finished\n"
     ]
    },
    {
     "name": "stdout",
     "output_type": "stream",
     "text": [
      "1.0\n",
      "0.9166666666666666\n",
      "{'n_neighbors': 1}\n"
     ]
    }
   ],
   "source": [
    "tune_knn(X_train, y_train, X_test, y_test)"
   ]
  },
  {
   "cell_type": "code",
   "execution_count": 7,
   "metadata": {},
   "outputs": [
    {
     "name": "stdout",
     "output_type": "stream",
     "text": [
      "i=1, accuracy=93.21%\n",
      "i=2, accuracy=90.83%\n",
      "i=3, accuracy=91.07%\n",
      "i=4, accuracy=92.02%\n",
      "i=5, accuracy=92.26%\n",
      "i=6, accuracy=91.90%\n",
      "i=7, accuracy=91.31%\n",
      "i=8, accuracy=90.71%\n",
      "i=9, accuracy=90.95%\n",
      "i=10, accuracy=90.83%\n",
      "i=11, accuracy=90.48%\n",
      "i=12, accuracy=90.48%\n",
      "i=13, accuracy=90.48%\n",
      "i=14, accuracy=90.12%\n",
      "i=15, accuracy=89.76%\n",
      "i=16, accuracy=89.88%\n",
      "i=17, accuracy=90.00%\n",
      "i=18, accuracy=90.00%\n",
      "i=19, accuracy=89.64%\n",
      "i=20, accuracy=90.24%\n",
      "i=21, accuracy=90.36%\n",
      "i=22, accuracy=89.88%\n",
      "i=23, accuracy=89.40%\n",
      "i=24, accuracy=89.40%\n",
      "i=25, accuracy=89.29%\n",
      "i=26, accuracy=89.17%\n",
      "i=27, accuracy=88.81%\n",
      "i=28, accuracy=88.93%\n",
      "i=29, accuracy=88.33%\n",
      "[93.21428571428572, 90.83333333333333, 91.07142857142857, 92.02380952380952, 92.26190476190477, 91.9047619047619, 91.30952380952381, 90.71428571428571, 90.95238095238095, 90.83333333333333, 90.47619047619048, 90.47619047619048, 90.47619047619048, 90.11904761904762, 89.76190476190476, 89.88095238095238, 90.0, 90.0, 89.64285714285715, 90.23809523809524, 90.35714285714286, 89.88095238095238, 89.40476190476191, 89.40476190476191, 89.28571428571429, 89.16666666666667, 88.80952380952381, 88.92857142857142, 88.33333333333333]\n",
      "[100.0, 96.07142857142857, 96.54761904761905, 95.74404761904762, 95.38690476190477, 94.31547619047619, 94.10714285714286, 93.51190476190476, 93.66071428571429, 93.30357142857143, 92.82738095238095, 92.52976190476191, 92.32142857142858, 92.23214285714286, 91.84523809523809, 91.93452380952381, 91.57738095238095, 91.45833333333333, 91.13095238095238, 90.89285714285714, 90.77380952380952, 90.625, 90.68452380952381, 90.44642857142857, 90.47619047619048, 90.0, 89.9702380952381, 89.82142857142857, 89.76190476190476]\n",
      "1\n"
     ]
    }
   ],
   "source": [
    "params = {\n",
    "    'n_neighbors': 1\n",
    "}\n",
    "n_range = np.arange(1, 10, 1)\n",
    "\n",
    "test_accs, train_accs, best_metric = test_hyperparams(KNeighborsClassifier, \n",
    "                                                      n_range, \n",
    "                                                      params,\n",
    "                                                      'n_neighbors' \n",
    "                                                     )\n",
    "print(test_accs)\n",
    "print(train_accs)\n",
    "print(best_metric)"
   ]
  },
  {
   "cell_type": "code",
   "execution_count": 15,
   "metadata": {},
   "outputs": [
    {
     "data": {
      "image/png": "[encoded data removed]",
      "text/plain": [
       "<Figure size 432x288 with 1 Axes>"
      ]
     },
     "metadata": {
      "needs_background": "light"
     },
     "output_type": "display_data"
    },
    {
     "data": {
      "text/plain": [
       "<Figure size 432x288 with 0 Axes>"
      ]
     },
     "metadata": {},
     "output_type": "display_data"
    }
   ],
   "source": [
    "n_range = np.arange(1, 30, 1)\n",
    "plot_hyperparam_test(test_accs, train_accs, n_range,  \"MNIST\", \"KNN\", \"n_neighbors\")"
   ]
  },
  {
   "cell_type": "code",
   "execution_count": 20,
   "metadata": {},
   "outputs": [
    {
     "name": "stdout",
     "output_type": "stream",
     "text": [
      "0.9434523809523809\n"
     ]
    }
   ],
   "source": [
    "model = KNeighborsClassifier(n_neighbors=1)\n",
    "model.fit(X_train,y_train)\n",
    "y_pred = model.predict(X_holdout_test)\n",
    "print(metrics.accuracy_score(y_holdout_test, y_pred))"
   ]
  },
  {
   "cell_type": "code",
   "execution_count": 21,
   "metadata": {},
   "outputs": [],
   "source": [
    "knn_test_acc = 0.9434523809523809"
   ]
  },
  {
   "cell_type": "markdown",
   "metadata": {},
   "source": [
    "# Decision tree"
   ]
  },
  {
   "cell_type": "code",
   "execution_count": 23,
   "metadata": {},
   "outputs": [
    {
     "name": "stdout",
     "output_type": "stream",
     "text": [
      "Fitting 5 folds for each of 800 candidates, totalling 4000 fits\n"
     ]
    },
    {
     "name": "stderr",
     "output_type": "stream",
     "text": [
      "[Parallel(n_jobs=-1)]: Using backend LokyBackend with 12 concurrent workers.\n",
      "[Parallel(n_jobs=-1)]: Done   1 tasks      | elapsed:    1.4s\n",
      "[Parallel(n_jobs=-1)]: Done   8 tasks      | elapsed:    1.7s\n",
      "[Parallel(n_jobs=-1)]: Done  17 tasks      | elapsed:    1.9s\n",
      "[Parallel(n_jobs=-1)]: Done  26 tasks      | elapsed:    2.1s\n",
      "[Parallel(n_jobs=-1)]: Done  37 tasks      | elapsed:    2.4s\n",
      "[Parallel(n_jobs=-1)]: Done  48 tasks      | elapsed:    2.5s\n",
      "[Parallel(n_jobs=-1)]: Done  61 tasks      | elapsed:    2.8s\n",
      "[Parallel(n_jobs=-1)]: Done  74 tasks      | elapsed:    3.1s\n",
      "[Parallel(n_jobs=-1)]: Done  89 tasks      | elapsed:    3.5s\n",
      "[Parallel(n_jobs=-1)]: Done 104 tasks      | elapsed:    3.7s\n",
      "[Parallel(n_jobs=-1)]: Done 121 tasks      | elapsed:    4.2s\n",
      "[Parallel(n_jobs=-1)]: Done 138 tasks      | elapsed:    4.5s\n",
      "[Parallel(n_jobs=-1)]: Done 157 tasks      | elapsed:    4.9s\n",
      "[Parallel(n_jobs=-1)]: Done 176 tasks      | elapsed:    5.3s\n",
      "[Parallel(n_jobs=-1)]: Done 197 tasks      | elapsed:    5.7s\n",
      "[Parallel(n_jobs=-1)]: Done 218 tasks      | elapsed:    6.2s\n",
      "[Parallel(n_jobs=-1)]: Done 241 tasks      | elapsed:    6.7s\n",
      "[Parallel(n_jobs=-1)]: Done 264 tasks      | elapsed:    7.2s\n",
      "[Parallel(n_jobs=-1)]: Done 289 tasks      | elapsed:    7.8s\n",
      "[Parallel(n_jobs=-1)]: Done 314 tasks      | elapsed:    8.3s\n",
      "[Parallel(n_jobs=-1)]: Done 341 tasks      | elapsed:    8.9s\n",
      "[Parallel(n_jobs=-1)]: Done 368 tasks      | elapsed:    9.5s\n",
      "[Parallel(n_jobs=-1)]: Done 397 tasks      | elapsed:   10.1s\n",
      "[Parallel(n_jobs=-1)]: Done 426 tasks      | elapsed:   10.7s\n",
      "[Parallel(n_jobs=-1)]: Done 457 tasks      | elapsed:   11.4s\n",
      "[Parallel(n_jobs=-1)]: Done 488 tasks      | elapsed:   12.1s\n",
      "[Parallel(n_jobs=-1)]: Done 521 tasks      | elapsed:   13.0s\n",
      "[Parallel(n_jobs=-1)]: Done 554 tasks      | elapsed:   13.8s\n",
      "[Parallel(n_jobs=-1)]: Done 589 tasks      | elapsed:   15.0s\n",
      "[Parallel(n_jobs=-1)]: Done 624 tasks      | elapsed:   16.2s\n",
      "[Parallel(n_jobs=-1)]: Done 661 tasks      | elapsed:   17.3s\n",
      "[Parallel(n_jobs=-1)]: Done 698 tasks      | elapsed:   18.5s\n",
      "[Parallel(n_jobs=-1)]: Done 737 tasks      | elapsed:   19.8s\n",
      "[Parallel(n_jobs=-1)]: Done 776 tasks      | elapsed:   21.0s\n",
      "[Parallel(n_jobs=-1)]: Done 817 tasks      | elapsed:   22.1s\n",
      "[Parallel(n_jobs=-1)]: Done 858 tasks      | elapsed:   23.4s\n",
      "[Parallel(n_jobs=-1)]: Done 901 tasks      | elapsed:   24.6s\n",
      "[Parallel(n_jobs=-1)]: Done 944 tasks      | elapsed:   25.8s\n",
      "[Parallel(n_jobs=-1)]: Done 989 tasks      | elapsed:   26.7s\n",
      "[Parallel(n_jobs=-1)]: Done 1034 tasks      | elapsed:   28.6s\n",
      "[Parallel(n_jobs=-1)]: Done 1081 tasks      | elapsed:   30.6s\n",
      "[Parallel(n_jobs=-1)]: Done 1128 tasks      | elapsed:   32.3s\n",
      "[Parallel(n_jobs=-1)]: Done 1177 tasks      | elapsed:   34.3s\n",
      "[Parallel(n_jobs=-1)]: Done 1226 tasks      | elapsed:   36.3s\n",
      "[Parallel(n_jobs=-1)]: Done 1277 tasks      | elapsed:   38.2s\n",
      "[Parallel(n_jobs=-1)]: Done 1328 tasks      | elapsed:   40.0s\n",
      "[Parallel(n_jobs=-1)]: Done 1381 tasks      | elapsed:   41.7s\n",
      "[Parallel(n_jobs=-1)]: Done 1434 tasks      | elapsed:   43.0s\n",
      "[Parallel(n_jobs=-1)]: Done 1489 tasks      | elapsed:   44.3s\n",
      "[Parallel(n_jobs=-1)]: Done 1544 tasks      | elapsed:   46.6s\n",
      "[Parallel(n_jobs=-1)]: Done 1601 tasks      | elapsed:   49.1s\n",
      "[Parallel(n_jobs=-1)]: Done 1658 tasks      | elapsed:   51.9s\n",
      "[Parallel(n_jobs=-1)]: Done 1717 tasks      | elapsed:   54.3s\n",
      "[Parallel(n_jobs=-1)]: Done 1776 tasks      | elapsed:   56.7s\n",
      "[Parallel(n_jobs=-1)]: Done 1837 tasks      | elapsed:   58.8s\n",
      "[Parallel(n_jobs=-1)]: Done 1898 tasks      | elapsed:  1.0min\n",
      "[Parallel(n_jobs=-1)]: Done 1961 tasks      | elapsed:  1.0min\n",
      "[Parallel(n_jobs=-1)]: Done 2024 tasks      | elapsed:  1.1min\n",
      "[Parallel(n_jobs=-1)]: Done 2089 tasks      | elapsed:  1.1min\n",
      "[Parallel(n_jobs=-1)]: Done 2154 tasks      | elapsed:  1.2min\n",
      "[Parallel(n_jobs=-1)]: Done 2221 tasks      | elapsed:  1.2min\n",
      "[Parallel(n_jobs=-1)]: Done 2288 tasks      | elapsed:  1.3min\n",
      "[Parallel(n_jobs=-1)]: Done 2357 tasks      | elapsed:  1.3min\n",
      "[Parallel(n_jobs=-1)]: Done 2426 tasks      | elapsed:  1.3min\n",
      "[Parallel(n_jobs=-1)]: Done 2497 tasks      | elapsed:  1.4min\n",
      "[Parallel(n_jobs=-1)]: Done 2568 tasks      | elapsed:  1.4min\n",
      "[Parallel(n_jobs=-1)]: Done 2641 tasks      | elapsed:  1.5min\n",
      "[Parallel(n_jobs=-1)]: Done 2714 tasks      | elapsed:  1.5min\n",
      "[Parallel(n_jobs=-1)]: Done 2789 tasks      | elapsed:  1.6min\n",
      "[Parallel(n_jobs=-1)]: Done 2864 tasks      | elapsed:  1.6min\n",
      "[Parallel(n_jobs=-1)]: Done 2941 tasks      | elapsed:  1.6min\n",
      "[Parallel(n_jobs=-1)]: Done 3018 tasks      | elapsed:  1.7min\n",
      "[Parallel(n_jobs=-1)]: Done 3097 tasks      | elapsed:  1.7min\n",
      "[Parallel(n_jobs=-1)]: Done 3176 tasks      | elapsed:  1.8min\n",
      "[Parallel(n_jobs=-1)]: Done 3257 tasks      | elapsed:  1.8min\n",
      "[Parallel(n_jobs=-1)]: Done 3338 tasks      | elapsed:  1.9min\n",
      "[Parallel(n_jobs=-1)]: Done 3421 tasks      | elapsed:  1.9min\n",
      "[Parallel(n_jobs=-1)]: Done 3504 tasks      | elapsed:  2.0min\n",
      "[Parallel(n_jobs=-1)]: Done 3589 tasks      | elapsed:  2.0min\n",
      "[Parallel(n_jobs=-1)]: Done 3674 tasks      | elapsed:  2.1min\n",
      "[Parallel(n_jobs=-1)]: Done 3761 tasks      | elapsed:  2.2min\n",
      "[Parallel(n_jobs=-1)]: Done 3848 tasks      | elapsed:  2.2min\n",
      "[Parallel(n_jobs=-1)]: Done 3937 tasks      | elapsed:  2.2min\n",
      "[Parallel(n_jobs=-1)]: Done 4000 out of 4000 | elapsed:  2.3min finished\n"
     ]
    },
    {
     "name": "stdout",
     "output_type": "stream",
     "text": [
      "0.8953418027828192\n",
      "0.7557436517533253\n",
      "{'max_depth': 8, 'min_samples_split': 2, 'min_samples_leaf': 2}\n"
     ]
    }
   ],
   "source": [
    "tune_decision_tree(X_train, y_train, X_test, y_test)"
   ]
  },
  {
   "cell_type": "code",
   "execution_count": 29,
   "metadata": {},
   "outputs": [
    {
     "data": {
      "image/png": "[encoded data removed]",
      "text/plain": [
       "<Figure size 432x288 with 1 Axes>"
      ]
     },
     "metadata": {
      "needs_background": "light"
     },
     "output_type": "display_data"
    },
    {
     "name": "stdout",
     "output_type": "stream",
     "text": [
      "test acc:  [17.77509068923821, 30.10882708585248, 45.46553808948005, 58.28295042321644, 64.20798065296252, 68.6819830713422, 72.67230955259976, 75.33252720677146, 74.24425634824668, 74.00241837968561, 74.36517533252722, 73.51874244256348, 74.36517533252722, 73.88149939540509, 74.72793228536881, 74.12333736396614, 74.24425634824668, 74.96977025392987, 72.91414752116083, 75.21160822249094, 74.12333736396614, 74.36517533252722, 73.27690447400241, 73.76058041112455]\n",
      "train acc:  [19.328493647912886, 32.66787658802178, 51.39140955837871, 63.39987900786449, 70.659407138536, 77.6769509981851, 84.48275862068965, 89.53418027828192, 92.40774349667271, 94.25287356321839, 95.16031457955233, 95.37205081669691, 95.6140350877193, 95.6442831215971, 95.76527525710829, 95.76527525710829, 95.76527525710829, 95.79552329098608, 95.70477918935269, 95.73502722323049, 95.73502722323049, 95.73502722323049, 95.73502722323049, 95.70477918935269]\n",
      "8\n"
     ]
    },
    {
     "data": {
      "text/plain": [
       "<Figure size 432x288 with 0 Axes>"
      ]
     },
     "metadata": {},
     "output_type": "display_data"
    }
   ],
   "source": [
    "params ={'max_depth': 8, 'min_samples_split': 2, 'min_samples_leaf': 2}\n",
    "n_range = np.arange(1, 25, 1)\n",
    "\n",
    "test_accs, train_accs, best_metric = test_hyperparams(tree.DecisionTreeClassifier, \n",
    "                                                      n_range, \n",
    "                                                      params,\n",
    "                                                      'max_depth' \n",
    "                                                     )\n",
    "\n",
    "plot_hyperparam_test(test_accs, train_accs, n_range,  \"MNIST\", \"Decision_Tree\", \"max_depth\")\n",
    "print(\"test acc: \", test_accs)\n",
    "print(\"train acc: \", train_accs)\n",
    "print(best_metric)"
   ]
  },
  {
   "cell_type": "code",
   "execution_count": 31,
   "metadata": {},
   "outputs": [
    {
     "data": {
      "image/png": "[encoded data removed]",
      "text/plain": [
       "<Figure size 432x288 with 1 Axes>"
      ]
     },
     "metadata": {
      "needs_background": "light"
     },
     "output_type": "display_data"
    },
    {
     "name": "stdout",
     "output_type": "stream",
     "text": [
      "test acc:  [74.72793228536881, 74.24425634824668, 73.63966142684401, 74.84885126964933, 74.12333736396614, 74.48609431680774, 74.24425634824668, 73.88149939540509, 74.60701330108827, 74.24425634824668, 74.24425634824668, 74.24425634824668, 74.48609431680774, 74.72793228536881, 74.60701330108827, 74.00241837968561, 74.48609431680774, 75.453446191052, 74.60701330108827, 74.48609431680774, 74.48609431680774, 74.72793228536881, 74.60701330108827, 74.48609431680774, 75.0906892382104, 74.48609431680774, 74.36517533252722, 74.36517533252722, 73.15598548972189, 73.39782345828296, 73.39782345828296, 73.63966142684401, 72.91414752116083, 73.76058041112455, 73.63966142684401, 73.39782345828296, 73.63966142684401, 72.67230955259976, 72.79322853688029, 72.79322853688029, 72.67230955259976, 72.0677146311971, 71.46311970979444, 71.58403869407496, 70.97944377267231, 70.85852478839178, 70.97944377267231, 70.85852478839178]\n",
      "train acc:  [95.73502722323049, 95.73502722323049, 95.76527525710829, 94.88808227465215, 94.1923774954628, 93.43617664851784, 92.6497277676951, 92.16575922565033, 91.92377495462794, 90.89534180278281, 90.68360556563823, 90.41137326073805, 90.38112522686026, 90.04839685420448, 89.92740471869328, 89.26194797338172, 88.86872353297036, 88.68723532970357, 88.02177858439202, 87.65880217785845, 87.47731397459165, 87.29582577132487, 86.96309739866909, 86.47912885662433, 86.41863278886872, 86.11615245009074, 85.99516031457955, 85.96491228070175, 85.45069570477919, 84.96672716273443, 84.81548699334543, 84.69449485783424, 84.60375075620085, 84.27102238354507, 83.9080459770115, 83.06110102843314, 82.78886872353297, 82.3956442831216, 82.3956442831216, 82.3956442831216, 82.09316394434362, 81.66969147005445, 81.33696309739868, 81.15547489413188, 80.97398669086509, 80.97398669086509, 80.7017543859649, 80.7320024198427]\n",
      "19\n"
     ]
    },
    {
     "data": {
      "text/plain": [
       "<Figure size 432x288 with 0 Axes>"
      ]
     },
     "metadata": {},
     "output_type": "display_data"
    }
   ],
   "source": [
    "n_range = np.arange(2, 50, 1)\n",
    "\n",
    "test_accs, train_accs, best_metric = test_hyperparams(tree.DecisionTreeClassifier, \n",
    "                                                      n_range, \n",
    "                                                      params,\n",
    "                                                      'min_samples_split' \n",
    "                                                     )\n",
    "\n",
    "plot_hyperparam_test(test_accs, train_accs, n_range,  \"MNIST\", \"Decision_Tree\", \"min_samples_split\")\n",
    "#print(\"test acc: \", test_accs)\n",
    "#print(\"train acc: \", train_accs)\n",
    "print(best_metric)"
   ]
  },
  {
   "cell_type": "code",
   "execution_count": 32,
   "metadata": {},
   "outputs": [],
   "source": [
    "params['min_samples_split'] = 19"
   ]
  },
  {
   "cell_type": "code",
   "execution_count": 33,
   "metadata": {},
   "outputs": [
    {
     "data": {
      "image/png": "[encoded data removed]",
      "text/plain": [
       "<Figure size 432x288 with 1 Axes>"
      ]
     },
     "metadata": {
      "needs_background": "light"
     },
     "output_type": "display_data"
    },
    {
     "name": "stdout",
     "output_type": "stream",
     "text": [
      "4\n"
     ]
    },
    {
     "data": {
      "text/plain": [
       "<Figure size 432x288 with 0 Axes>"
      ]
     },
     "metadata": {},
     "output_type": "display_data"
    }
   ],
   "source": [
    "n_range = np.arange(2, 50, 1)\n",
    "\n",
    "test_accs, train_accs, best_metric = test_hyperparams(tree.DecisionTreeClassifier, \n",
    "                                                      n_range, \n",
    "                                                      params,\n",
    "                                                      'min_samples_leaf' \n",
    "                                                     )\n",
    "\n",
    "plot_hyperparam_test(test_accs, train_accs, n_range,  \"MNIST\", \"Decision_Tree\", \"min_samples_leaf\")\n",
    "#print(\"test acc: \", test_accs)\n",
    "#print(\"train acc: \", train_accs)\n",
    "print(best_metric)"
   ]
  },
  {
   "cell_type": "code",
   "execution_count": 34,
   "metadata": {},
   "outputs": [],
   "source": [
    "params['min_samples_leaf'] = 4"
   ]
  },
  {
   "cell_type": "code",
   "execution_count": 35,
   "metadata": {},
   "outputs": [
    {
     "name": "stdout",
     "output_type": "stream",
     "text": [
      "0.7752976190476191\n"
     ]
    }
   ],
   "source": [
    "clf = tree.DecisionTreeClassifier(**params)\n",
    "clf = clf.fit(X_train, y_train)\n",
    "\n",
    "y_pred = clf.predict(X_holdout_test)\n",
    "print(metrics.accuracy_score(y_holdout_test, y_pred))\n",
    "decision_tree_test_acc = metrics.accuracy_score(y_holdout_test, y_pred)"
   ]
  },
  {
   "cell_type": "markdown",
   "metadata": {},
   "source": [
    "# SVM"
   ]
  },
  {
   "cell_type": "code",
   "execution_count": 41,
   "metadata": {},
   "outputs": [
    {
     "name": "stdout",
     "output_type": "stream",
     "text": [
      "Fitting 5 folds for each of 75 candidates, totalling 375 fits\n"
     ]
    },
    {
     "name": "stderr",
     "output_type": "stream",
     "text": [
      "[Parallel(n_jobs=-1)]: Using backend LokyBackend with 12 concurrent workers.\n",
      "[Parallel(n_jobs=-1)]: Done   1 tasks      | elapsed:    7.4s\n",
      "[Parallel(n_jobs=-1)]: Done   8 tasks      | elapsed:   15.6s\n",
      "[Parallel(n_jobs=-1)]: Done  17 tasks      | elapsed:   38.2s\n",
      "[Parallel(n_jobs=-1)]: Done  26 tasks      | elapsed:   47.5s\n",
      "[Parallel(n_jobs=-1)]: Done  37 tasks      | elapsed:  1.0min\n",
      "[Parallel(n_jobs=-1)]: Done  48 tasks      | elapsed:  1.3min\n",
      "[Parallel(n_jobs=-1)]: Done  61 tasks      | elapsed:  1.9min\n",
      "[Parallel(n_jobs=-1)]: Done  74 tasks      | elapsed:  2.4min\n",
      "[Parallel(n_jobs=-1)]: Done  89 tasks      | elapsed:  2.6min\n",
      "[Parallel(n_jobs=-1)]: Done 104 tasks      | elapsed:  2.9min\n",
      "[Parallel(n_jobs=-1)]: Done 121 tasks      | elapsed:  3.2min\n",
      "[Parallel(n_jobs=-1)]: Done 138 tasks      | elapsed:  3.8min\n",
      "[Parallel(n_jobs=-1)]: Done 157 tasks      | elapsed:  4.3min\n",
      "[Parallel(n_jobs=-1)]: Done 176 tasks      | elapsed:  4.7min\n",
      "[Parallel(n_jobs=-1)]: Done 197 tasks      | elapsed:  4.9min\n",
      "[Parallel(n_jobs=-1)]: Done 218 tasks      | elapsed:  5.5min\n",
      "[Parallel(n_jobs=-1)]: Done 241 tasks      | elapsed:  6.1min\n",
      "[Parallel(n_jobs=-1)]: Done 264 tasks      | elapsed:  6.5min\n",
      "[Parallel(n_jobs=-1)]: Done 289 tasks      | elapsed:  6.8min\n",
      "[Parallel(n_jobs=-1)]: Done 314 tasks      | elapsed:  7.5min\n",
      "[Parallel(n_jobs=-1)]: Done 341 tasks      | elapsed:  8.0min\n",
      "[Parallel(n_jobs=-1)]: Done 375 out of 375 | elapsed:  8.5min finished\n"
     ]
    },
    {
     "name": "stdout",
     "output_type": "stream",
     "text": [
      "1.0\n",
      "0.9528415961305925\n",
      "{'C': 100, 'gamma': 0.01, 'kernel': 'rbf'}\n"
     ]
    }
   ],
   "source": [
    "tune_SVM(X_train, y_train, X_test, y_test)"
   ]
  },
  {
   "cell_type": "code",
   "execution_count": 65,
   "metadata": {},
   "outputs": [
    {
     "name": "stdout",
     "output_type": "stream",
     "text": [
      "[1.  1.5 2.  2.5 3.  3.5 4.  4.5]\n"
     ]
    },
    {
     "data": {
      "image/png": "[encoded data removed]",
      "text/plain": [
       "<Figure size 432x288 with 1 Axes>"
      ]
     },
     "metadata": {
      "needs_background": "light"
     },
     "output_type": "display_data"
    },
    {
     "name": "stdout",
     "output_type": "stream",
     "text": [
      "2.5\n"
     ]
    },
    {
     "data": {
      "text/plain": [
       "<Figure size 432x288 with 0 Axes>"
      ]
     },
     "metadata": {},
     "output_type": "display_data"
    }
   ],
   "source": [
    "#params = {\n",
    "   # 'C': [0.1, 1, 10, 100, 1000],\n",
    "  #  'gamma': [1, 0.1, 0.01, 0.001, 0.0001],\n",
    " #   'kernel': ['rbf', 'linear', 'poly']\n",
    "#}\n",
    "params = {\n",
    "    'C': 100,\n",
    "    'gamma': 0.01,\n",
    "    'kernel': 'rbf'\n",
    "}\n",
    "#0.1, 0.5,\n",
    "n_range = [ 1, 2.5, 5, 7.5, 10]\n",
    "n_range = np.arange(1, 5, .5)\n",
    "print(n_range)\n",
    "test_accs, train_accs, best_metric = test_hyperparams(SVC, \n",
    "                                                      n_range, \n",
    "                                                      params,\n",
    "                                                      'C' \n",
    "                                                     )\n",
    "\n",
    "plot_hyperparam_test(test_accs, train_accs, n_range,  \"MNIST\", \"SVM\", \"C\")\n",
    "#print(\"test acc: \", test_accs)\n",
    "#print(\"train acc: \", train_accs)\n",
    "print(best_metric)\n",
    "params['C'] = best_metric"
   ]
  },
  {
   "cell_type": "code",
   "execution_count": 66,
   "metadata": {},
   "outputs": [
    {
     "data": {
      "image/png": "[encoded data removed]",
      "text/plain": [
       "<Figure size 432x288 with 1 Axes>"
      ]
     },
     "metadata": {
      "needs_background": "light"
     },
     "output_type": "display_data"
    },
    {
     "name": "stdout",
     "output_type": "stream",
     "text": [
      "0.01\n"
     ]
    },
    {
     "data": {
      "text/plain": [
       "<Figure size 432x288 with 0 Axes>"
      ]
     },
     "metadata": {},
     "output_type": "display_data"
    }
   ],
   "source": [
    "\n",
    "n_range = [0.02, 0.01, 0.001, 0.0001]\n",
    "test_accs, train_accs, best_metric = test_hyperparams(SVC, \n",
    "                                                      n_range, \n",
    "                                                      params,\n",
    "                                                      'gamma' \n",
    "                                                     )\n",
    "\n",
    "plot_hyperparam_test(test_accs, train_accs, n_range,  \"MNIST\", \"SVM\", \"gamma\")\n",
    "#print(\"test acc: \", test_accs)\n",
    "#print(\"train acc: \", train_accs)\n",
    "print(best_metric)\n",
    "params['gamma'] = best_metric"
   ]
  },
  {
   "cell_type": "code",
   "execution_count": 67,
   "metadata": {},
   "outputs": [
    {
     "data": {
      "image/png": "[encoded data removed]",
      "text/plain": [
       "<Figure size 432x288 with 1 Axes>"
      ]
     },
     "metadata": {
      "needs_background": "light"
     },
     "output_type": "display_data"
    },
    {
     "name": "stdout",
     "output_type": "stream",
     "text": [
      "rbf\n"
     ]
    },
    {
     "data": {
      "text/plain": [
       "<Figure size 432x288 with 0 Axes>"
      ]
     },
     "metadata": {},
     "output_type": "display_data"
    }
   ],
   "source": [
    "n_range = ['rbf', 'linear', 'poly']\n",
    "test_accs, train_accs, best_metric = test_hyperparams(SVC, \n",
    "                                                      n_range, \n",
    "                                                      params,\n",
    "                                                      'kernel' \n",
    "                                                     )\n",
    "\n",
    "plot_hyperparam_test(test_accs, train_accs, n_range,  \"MNIST\", \"SVM\", \"kernel\")\n",
    "#print(\"test acc: \", test_accs)\n",
    "#print(\"train acc: \", train_accs)\n",
    "print(best_metric)\n",
    "params['kernel'] = best_metric"
   ]
  },
  {
   "cell_type": "code",
   "execution_count": 71,
   "metadata": {},
   "outputs": [
    {
     "data": {
      "image/png": "[encoded data removed]",
      "text/plain": [
       "<Figure size 432x288 with 1 Axes>"
      ]
     },
     "metadata": {
      "needs_background": "light"
     },
     "output_type": "display_data"
    },
    {
     "name": "stdout",
     "output_type": "stream",
     "text": [
      "[95.64691656590084, 91.05199516324063, 93.34945586457074]\n"
     ]
    },
    {
     "data": {
      "text/plain": [
       "<Figure size 432x288 with 0 Axes>"
      ]
     },
     "metadata": {},
     "output_type": "display_data"
    }
   ],
   "source": [
    "plt.bar(n_range, test_accs, width=0.5)\n",
    "plt.xlabel(\"Kernel\")\n",
    "plt.ylabel(\"Accuracy\")\n",
    "plt.title(\"Accuracy on MNIST with different kernels\")\n",
    "axes = plt.gca()\n",
    "axes.set_ylim([0,100])\n",
    "axes.set_ylim([90,96])\n",
    "plt.show()\n",
    "plt.savefig(\"./output/kernel_bars_mnist.png\")\n",
    "print(test_accs)"
   ]
  },
  {
   "cell_type": "code",
   "execution_count": 72,
   "metadata": {},
   "outputs": [
    {
     "data": {
      "image/png": "[encoded data removed]",
      "text/plain": [
       "<Figure size 432x288 with 1 Axes>"
      ]
     },
     "metadata": {
      "needs_background": "light"
     },
     "output_type": "display_data"
    },
    {
     "name": "stdout",
     "output_type": "stream",
     "text": [
      "test acc:  [92.38210399032648, 94.43772672309552, 93.34945586457074, 88.99637243047158, 81.4993954050786, 73.63966142684401, 65.53808948004837, 59.12938331318017]\n",
      "2\n"
     ]
    },
    {
     "data": {
      "text/plain": [
       "<Figure size 432x288 with 0 Axes>"
      ]
     },
     "metadata": {},
     "output_type": "display_data"
    }
   ],
   "source": [
    "params['kernel'] = 'poly'\n",
    "params['degree'] = 1\n",
    "\n",
    "n_range = np.arange(1, 9, 1)\n",
    "test_accs, train_accs, best_metric = test_hyperparams(SVC, \n",
    "                                                      n_range, \n",
    "                                                      params,\n",
    "                                                      'degree' \n",
    "                                                     )\n",
    "\n",
    "plot_hyperparam_test(test_accs, train_accs, n_range,  \"MNIST\", \"SVM\", \"degree\")\n",
    "print(\"test acc: \", test_accs)\n",
    "#print(\"train acc: \", train_accs)\n",
    "print(best_metric)\n",
    "params['degree'] = best_metric"
   ]
  },
  {
   "cell_type": "code",
   "execution_count": 73,
   "metadata": {},
   "outputs": [
    {
     "name": "stdout",
     "output_type": "stream",
     "text": [
      "0.9627976190476191\n"
     ]
    }
   ],
   "source": [
    "params['kernel'] = 'rbf'\n",
    "\n",
    "clf = SVC(**params)\n",
    "clf = clf.fit(X_train, y_train)\n",
    "\n",
    "y_pred = clf.predict(X_holdout_test)\n",
    "print(metrics.accuracy_score(y_holdout_test, y_pred))\n",
    "svm_test_acc = metrics.accuracy_score(y_holdout_test, y_pred)"
   ]
  },
  {
   "cell_type": "markdown",
   "metadata": {},
   "source": [
    "# ADABOOST"
   ]
  },
  {
   "cell_type": "code",
   "execution_count": 85,
   "metadata": {},
   "outputs": [
    {
     "name": "stdout",
     "output_type": "stream",
     "text": [
      "Fitting 5 folds for each of 600 candidates, totalling 3000 fits\n"
     ]
    },
    {
     "name": "stderr",
     "output_type": "stream",
     "text": [
      "[Parallel(n_jobs=-1)]: Using backend LokyBackend with 12 concurrent workers.\n",
      "[Parallel(n_jobs=-1)]: Done   1 tasks      | elapsed:    0.0s\n",
      "[Parallel(n_jobs=-1)]: Batch computation too fast (0.1356s.) Setting batch_size=2.\n",
      "[Parallel(n_jobs=-1)]: Done   8 tasks      | elapsed:    0.7s\n",
      "[Parallel(n_jobs=-1)]: Done  17 tasks      | elapsed:    2.5s\n",
      "[Parallel(n_jobs=-1)]: Batch computation too slow (7.9657s.) Setting batch_size=1.\n",
      "[Parallel(n_jobs=-1)]: Done  28 tasks      | elapsed:    8.1s\n",
      "[Parallel(n_jobs=-1)]: Done  50 tasks      | elapsed:   19.4s\n",
      "[Parallel(n_jobs=-1)]: Done  65 tasks      | elapsed:   25.9s\n",
      "[Parallel(n_jobs=-1)]: Done  82 tasks      | elapsed:   30.2s\n",
      "[Parallel(n_jobs=-1)]: Done  97 tasks      | elapsed:   33.5s\n",
      "[Parallel(n_jobs=-1)]: Done 113 tasks      | elapsed:   39.6s\n",
      "[Parallel(n_jobs=-1)]: Done 128 tasks      | elapsed:   47.5s\n",
      "[Parallel(n_jobs=-1)]: Done 145 tasks      | elapsed:   55.7s\n",
      "[Parallel(n_jobs=-1)]: Done 162 tasks      | elapsed:  1.0min\n",
      "[Parallel(n_jobs=-1)]: Done 181 tasks      | elapsed:  1.1min\n",
      "[Parallel(n_jobs=-1)]: Done 200 tasks      | elapsed:  1.3min\n",
      "[Parallel(n_jobs=-1)]: Done 221 tasks      | elapsed:  1.5min\n",
      "[Parallel(n_jobs=-1)]: Done 242 tasks      | elapsed:  1.6min\n",
      "[Parallel(n_jobs=-1)]: Done 265 tasks      | elapsed:  1.7min\n",
      "[Parallel(n_jobs=-1)]: Done 288 tasks      | elapsed:  2.0min\n",
      "[Parallel(n_jobs=-1)]: Done 313 tasks      | elapsed:  2.1min\n",
      "[Parallel(n_jobs=-1)]: Done 338 tasks      | elapsed:  2.2min\n",
      "[Parallel(n_jobs=-1)]: Done 365 tasks      | elapsed:  2.5min\n",
      "[Parallel(n_jobs=-1)]: Done 392 tasks      | elapsed:  2.6min\n",
      "[Parallel(n_jobs=-1)]: Done 421 tasks      | elapsed:  2.8min\n",
      "[Parallel(n_jobs=-1)]: Done 450 tasks      | elapsed:  3.1min\n",
      "[Parallel(n_jobs=-1)]: Done 481 tasks      | elapsed:  3.3min\n",
      "[Parallel(n_jobs=-1)]: Done 512 tasks      | elapsed:  3.6min\n",
      "[Parallel(n_jobs=-1)]: Done 545 tasks      | elapsed:  3.8min\n",
      "[Parallel(n_jobs=-1)]: Done 578 tasks      | elapsed:  4.0min\n",
      "[Parallel(n_jobs=-1)]: Done 613 tasks      | elapsed:  4.3min\n",
      "[Parallel(n_jobs=-1)]: Done 648 tasks      | elapsed:  4.6min\n",
      "[Parallel(n_jobs=-1)]: Done 685 tasks      | elapsed:  4.9min\n",
      "[Parallel(n_jobs=-1)]: Done 722 tasks      | elapsed:  5.1min\n",
      "[Parallel(n_jobs=-1)]: Done 761 tasks      | elapsed:  5.5min\n",
      "[Parallel(n_jobs=-1)]: Done 800 tasks      | elapsed:  5.8min\n",
      "[Parallel(n_jobs=-1)]: Done 841 tasks      | elapsed:  6.1min\n",
      "[Parallel(n_jobs=-1)]: Done 882 tasks      | elapsed:  6.5min\n",
      "[Parallel(n_jobs=-1)]: Done 925 tasks      | elapsed:  6.7min\n",
      "[Parallel(n_jobs=-1)]: Done 968 tasks      | elapsed:  7.2min\n",
      "[Parallel(n_jobs=-1)]: Done 1013 tasks      | elapsed:  7.5min\n",
      "[Parallel(n_jobs=-1)]: Done 1058 tasks      | elapsed:  7.9min\n",
      "[Parallel(n_jobs=-1)]: Done 1105 tasks      | elapsed:  8.3min\n",
      "[Parallel(n_jobs=-1)]: Done 1152 tasks      | elapsed:  8.6min\n",
      "[Parallel(n_jobs=-1)]: Done 1201 tasks      | elapsed:  9.1min\n",
      "[Parallel(n_jobs=-1)]: Done 1250 tasks      | elapsed:  9.5min\n",
      "[Parallel(n_jobs=-1)]: Done 1301 tasks      | elapsed:  9.9min\n",
      "[Parallel(n_jobs=-1)]: Done 1352 tasks      | elapsed: 10.4min\n",
      "[Parallel(n_jobs=-1)]: Done 1405 tasks      | elapsed: 10.8min\n",
      "[Parallel(n_jobs=-1)]: Done 1458 tasks      | elapsed: 11.2min\n",
      "[Parallel(n_jobs=-1)]: Done 1513 tasks      | elapsed: 11.7min\n",
      "[Parallel(n_jobs=-1)]: Done 1568 tasks      | elapsed: 12.1min\n",
      "[Parallel(n_jobs=-1)]: Done 1625 tasks      | elapsed: 12.4min\n",
      "[Parallel(n_jobs=-1)]: Done 1682 tasks      | elapsed: 12.8min\n",
      "[Parallel(n_jobs=-1)]: Done 1741 tasks      | elapsed: 13.3min\n",
      "[Parallel(n_jobs=-1)]: Done 1800 tasks      | elapsed: 13.7min\n",
      "[Parallel(n_jobs=-1)]: Done 1861 tasks      | elapsed: 14.2min\n",
      "[Parallel(n_jobs=-1)]: Done 1922 tasks      | elapsed: 14.6min\n",
      "[Parallel(n_jobs=-1)]: Done 1985 tasks      | elapsed: 15.0min\n",
      "[Parallel(n_jobs=-1)]: Done 2048 tasks      | elapsed: 15.6min\n",
      "[Parallel(n_jobs=-1)]: Done 2113 tasks      | elapsed: 16.1min\n",
      "[Parallel(n_jobs=-1)]: Done 2178 tasks      | elapsed: 16.7min\n",
      "[Parallel(n_jobs=-1)]: Done 2245 tasks      | elapsed: 17.2min\n",
      "[Parallel(n_jobs=-1)]: Done 2312 tasks      | elapsed: 17.8min\n",
      "[Parallel(n_jobs=-1)]: Done 2381 tasks      | elapsed: 18.3min\n",
      "[Parallel(n_jobs=-1)]: Done 2450 tasks      | elapsed: 18.9min\n",
      "[Parallel(n_jobs=-1)]: Done 2521 tasks      | elapsed: 19.5min\n",
      "[Parallel(n_jobs=-1)]: Done 2592 tasks      | elapsed: 20.1min\n",
      "[Parallel(n_jobs=-1)]: Done 2665 tasks      | elapsed: 20.7min\n",
      "[Parallel(n_jobs=-1)]: Done 2738 tasks      | elapsed: 21.4min\n",
      "[Parallel(n_jobs=-1)]: Done 2813 tasks      | elapsed: 22.0min\n",
      "[Parallel(n_jobs=-1)]: Done 2888 tasks      | elapsed: 22.7min\n",
      "[Parallel(n_jobs=-1)]: Done 2965 tasks      | elapsed: 23.4min\n",
      "[Parallel(n_jobs=-1)]: Done 3000 out of 3000 | elapsed: 23.8min finished\n"
     ]
    },
    {
     "name": "stdout",
     "output_type": "stream",
     "text": [
      "1.0\n",
      "0.932285368802902\n",
      "{'base_estimator__max_depth': 10, 'base_estimator__criterion': 'entropy', 'base_estimator__splitter': 'best', 'n_estimators': 111}\n"
     ]
    }
   ],
   "source": [
    "tune_adaboost(X_train, y_train, X_test, y_test)"
   ]
  },
  {
   "cell_type": "code",
   "execution_count": 91,
   "metadata": {},
   "outputs": [
    {
     "data": {
      "image/png": "[encoded data removed]",
      "text/plain": [
       "<Figure size 432x288 with 1 Axes>"
      ]
     },
     "metadata": {
      "needs_background": "light"
     },
     "output_type": "display_data"
    },
    {
     "name": "stdout",
     "output_type": "stream",
     "text": [
      "141\n"
     ]
    },
    {
     "data": {
      "text/plain": [
       "<Figure size 432x288 with 0 Axes>"
      ]
     },
     "metadata": {},
     "output_type": "display_data"
    }
   ],
   "source": [
    "base_estimator = tree.DecisionTreeClassifier(random_state = 11, max_depth=10)\n",
    "params = {'n_estimators': 111, 'base_estimator':base_estimator}\n",
    "\n",
    "n_range = np.arange(140, 150, 1)\n",
    "test_accs, train_accs, best_metric = test_hyperparams(AdaBoostClassifier, \n",
    "                                                      n_range, \n",
    "                                                      params,\n",
    "                                                      'n_estimators' \n",
    "                                                     )\n",
    "\n",
    "plot_hyperparam_test(test_accs, train_accs, n_range,  \"MNIST\", \"AdaBoost\", \"n_estimators\")\n",
    "#print(\"test acc: \", test_accs)\n",
    "#print(\"train acc: \", train_accs)\n",
    "print(best_metric)\n",
    "params['n_estimators'] = best_metric"
   ]
  },
  {
   "cell_type": "code",
   "execution_count": 101,
   "metadata": {},
   "outputs": [
    {
     "data": {
      "image/png": "[encoded data removed]",
      "text/plain": [
       "<Figure size 432x288 with 1 Axes>"
      ]
     },
     "metadata": {
      "needs_background": "light"
     },
     "output_type": "display_data"
    },
    {
     "name": "stdout",
     "output_type": "stream",
     "text": [
      "141\n"
     ]
    },
    {
     "data": {
      "text/plain": [
       "<Figure size 432x288 with 0 Axes>"
      ]
     },
     "metadata": {},
     "output_type": "display_data"
    }
   ],
   "source": [
    "base_estimator = tree.DecisionTreeClassifier(max_depth=8)\n",
    "params = {'n_estimators': 111, 'base_estimator':base_estimator}\n",
    "\n",
    "n_range = np.arange(1, 210, 20)\n",
    "test_accs, train_accs, best_metric = test_hyperparams(AdaBoostClassifier, \n",
    "                                                      n_range, \n",
    "                                                      params,\n",
    "                                                      'n_estimators' \n",
    "                                                     )\n",
    "\n",
    "plot_hyperparam_test(test_accs, train_accs, n_range,  \"MNIST\", \"AdaBoost\", \"n_estimators\")\n",
    "#print(\"test acc: \", test_accs)\n",
    "#print(\"train acc: \", train_accs)\n",
    "print(best_metric)\n",
    "params['n_estimators'] = best_metric"
   ]
  },
  {
   "cell_type": "code",
   "execution_count": 89,
   "metadata": {},
   "outputs": [
    {
     "name": "stdout",
     "output_type": "stream",
     "text": [
      "test acc:  [75.453446191052, 85.36880290205562, 88.27085852478838, 89.35912938331319, 90.81015719467956, 91.41475211608223, 91.53567110036276, 92.86577992744861, 93.47037484885126, 93.10761789600967, 93.5912938331318, 92.62394195888754, 93.5912938331318, 93.10761789600967, 94.19588875453447]\n"
     ]
    }
   ],
   "source": [
    "print(\"test acc: \", test_accs)"
   ]
  },
  {
   "cell_type": "code",
   "execution_count": 99,
   "metadata": {},
   "outputs": [
    {
     "name": "stdout",
     "output_type": "stream",
     "text": [
      "0.9389880952380952\n"
     ]
    }
   ],
   "source": [
    "params = {\"base_estimator__criterion\" : [\"gini\", \"entropy\"],\n",
    "                  \"base_estimator__splitter\" :   [\"best\", \"random\"],\n",
    "                  \"base_estimator__max_depth\" :   np.arange(2, 12, 1),\n",
    "                  \"n_estimators\": np.arange(1, 150, 10)\n",
    "                 }\n",
    "\n",
    "\n",
    "  \n",
    "clf = AdaBoostClassifier(base_estimator=tree.DecisionTreeClassifier(max_depth=8), n_estimators=250)\n",
    "clf.fit(X_train, y_train)                                                                     \n",
    "y_pred = clf.predict(X_holdout_test)\n",
    "print(metrics.accuracy_score(y_holdout_test, y_pred))\n",
    "adaboost_test_acc = metrics.accuracy_score(y_holdout_test, y_pred)"
   ]
  },
  {
   "cell_type": "markdown",
   "metadata": {},
   "source": [
    "# CNN"
   ]
  },
  {
   "cell_type": "code",
   "execution_count": 7,
   "metadata": {},
   "outputs": [
    {
     "name": "stderr",
     "output_type": "stream",
     "text": [
      "Using TensorFlow backend.\n"
     ]
    }
   ],
   "source": [
    "from keras.applications.vgg16 import VGG16, preprocess_input\n"
   ]
  },
  {
   "cell_type": "code",
   "execution_count": 84,
   "metadata": {},
   "outputs": [],
   "source": [
    "num_category = 10 \n",
    "\n",
    "y_train_oh = keras.utils.to_categorical(y_train, num_category)\n",
    "y_test_oh = keras.utils.to_categorical(y_test, num_category)"
   ]
  },
  {
   "cell_type": "code",
   "execution_count": 85,
   "metadata": {},
   "outputs": [],
   "source": []
  },
  {
   "cell_type": "code",
   "execution_count": 86,
   "metadata": {},
   "outputs": [],
   "source": []
  },
  {
   "cell_type": "code",
   "execution_count": 87,
   "metadata": {},
   "outputs": [
    {
     "name": "stdout",
     "output_type": "stream",
     "text": [
      "_________________________________________________________________\n",
      "Layer (type)                 Output Shape              Param #   \n",
      "=================================================================\n",
      "dense_32 (Dense)             (None, 32)                25120     \n",
      "_________________________________________________________________\n",
      "dense_33 (Dense)             (None, 10)                330       \n",
      "=================================================================\n",
      "Total params: 25,450\n",
      "Trainable params: 25,450\n",
      "Non-trainable params: 0\n",
      "_________________________________________________________________\n"
     ]
    }
   ],
   "source": []
  },
  {
   "cell_type": "code",
   "execution_count": 97,
   "metadata": {},
   "outputs": [
    {
     "name": "stdout",
     "output_type": "stream",
     "text": [
      "_________________________________________________________________\n",
      "Layer (type)                 Output Shape              Param #   \n",
      "=================================================================\n",
      "dense_50 (Dense)             (None, 32)                25120     \n",
      "_________________________________________________________________\n",
      "dense_51 (Dense)             (None, 10)                330       \n",
      "=================================================================\n",
      "Total params: 25,450\n",
      "Trainable params: 25,450\n",
      "Non-trainable params: 0\n",
      "_________________________________________________________________\n"
     ]
    },
    {
     "data": {
      "image/png": "[encoded data removed]",
      "text/plain": [
       "<Figure size 432x288 with 1 Axes>"
      ]
     },
     "metadata": {
      "needs_background": "light"
     },
     "output_type": "display_data"
    },
    {
     "name": "stdout",
     "output_type": "stream",
     "text": [
      "Test loss:  0.34552319681197585\n",
      "Test accuracy:  0.9081015714422823\n"
     ]
    }
   ],
   "source": [
    "model = keras.models.Sequential()\n",
    "model.add(Dense(units=32, activation='sigmoid', input_shape=(784,)))\n",
    "model.add(Dense(units=10, activation='softmax'))\n",
    "\n",
    "opt = keras.optimizers.Adam(lr=0.001)\n",
    "loss_fn = keras.losses.categorical_crossentropy\n",
    "\n",
    "model.compile(loss=loss_fn,\n",
    "                  optimizer=opt,\n",
    "                  metrics=['accuracy'])\n",
    "model.summary()\n",
    "\n",
    "history = model.fit(X_train, y_train_oh, batch_size=64, epochs=30, verbose=False, validation_split=.1)\n",
    "loss, accuracy  = model.evaluate(X_test, y_test_oh, verbose=False)\n",
    "\n",
    "plt.plot(history.history['acc'])\n",
    "plt.plot(history.history['val_acc'])\n",
    "plt.title('model accuracy MNIST')\n",
    "plt.ylabel('accuracy')\n",
    "plt.xlabel('epoch')\n",
    "plt.legend(['training', 'validation'], loc='best')\n",
    "plt.show()\n",
    "\n",
    "print('Test loss: ', loss)\n",
    "print('Test accuracy: ', accuracy)\n"
   ]
  },
  {
   "cell_type": "code",
   "execution_count": null,
   "metadata": {},
   "outputs": [],
   "source": []
  },
  {
   "cell_type": "code",
   "execution_count": null,
   "metadata": {},
   "outputs": [],
   "source": []
  },
  {
   "cell_type": "code",
   "execution_count": 101,
   "metadata": {},
   "outputs": [
    {
     "name": "stdout",
     "output_type": "stream",
     "text": [
      "Train on 2975 samples, validate on 331 samples\n",
      "Epoch 1/20\n",
      "2975/2975 [==============================] - 2s 580us/step - loss: 1.4730 - acc: 0.5089 - val_loss: 0.5788 - val_acc: 0.8218\n",
      "Epoch 2/20\n",
      "2975/2975 [==============================] - 0s 136us/step - loss: 0.6625 - acc: 0.7805 - val_loss: 0.3157 - val_acc: 0.9275\n",
      "Epoch 3/20\n",
      "2975/2975 [==============================] - 0s 137us/step - loss: 0.4313 - acc: 0.8608 - val_loss: 0.2103 - val_acc: 0.9486\n",
      "Epoch 4/20\n",
      "2975/2975 [==============================] - 0s 139us/step - loss: 0.3376 - acc: 0.8881 - val_loss: 0.1531 - val_acc: 0.9607\n",
      "Epoch 5/20\n",
      "2975/2975 [==============================] - 0s 137us/step - loss: 0.2508 - acc: 0.9207 - val_loss: 0.1506 - val_acc: 0.9698\n",
      "Epoch 6/20\n",
      "2975/2975 [==============================] - 0s 136us/step - loss: 0.2118 - acc: 0.9341 - val_loss: 0.1204 - val_acc: 0.9758\n",
      "Epoch 7/20\n",
      "2975/2975 [==============================] - 0s 136us/step - loss: 0.2194 - acc: 0.9314 - val_loss: 0.1049 - val_acc: 0.9728\n",
      "Epoch 8/20\n",
      "2975/2975 [==============================] - 0s 137us/step - loss: 0.1668 - acc: 0.9442 - val_loss: 0.0961 - val_acc: 0.9758\n",
      "Epoch 9/20\n",
      "2975/2975 [==============================] - 0s 136us/step - loss: 0.1634 - acc: 0.9499 - val_loss: 0.0965 - val_acc: 0.9758\n",
      "Epoch 10/20\n",
      "2975/2975 [==============================] - 0s 141us/step - loss: 0.1398 - acc: 0.9570 - val_loss: 0.0838 - val_acc: 0.9758\n",
      "Epoch 11/20\n",
      "2975/2975 [==============================] - 0s 139us/step - loss: 0.1207 - acc: 0.9600 - val_loss: 0.0952 - val_acc: 0.9789\n",
      "Epoch 12/20\n",
      "2975/2975 [==============================] - 0s 137us/step - loss: 0.1165 - acc: 0.9624 - val_loss: 0.0824 - val_acc: 0.9849\n",
      "Epoch 13/20\n",
      "2975/2975 [==============================] - 0s 138us/step - loss: 0.1018 - acc: 0.9640 - val_loss: 0.0847 - val_acc: 0.9789\n",
      "Epoch 14/20\n",
      "2975/2975 [==============================] - 0s 137us/step - loss: 0.1119 - acc: 0.9603 - val_loss: 0.0746 - val_acc: 0.9849\n",
      "Epoch 15/20\n",
      "2975/2975 [==============================] - 0s 137us/step - loss: 0.0963 - acc: 0.9701 - val_loss: 0.0675 - val_acc: 0.9819\n",
      "Epoch 16/20\n",
      "2975/2975 [==============================] - 0s 138us/step - loss: 0.0961 - acc: 0.9684 - val_loss: 0.0768 - val_acc: 0.9789\n",
      "Epoch 17/20\n",
      "2975/2975 [==============================] - 0s 138us/step - loss: 0.1006 - acc: 0.9634 - val_loss: 0.0761 - val_acc: 0.9819\n",
      "Epoch 18/20\n",
      "2975/2975 [==============================] - 0s 137us/step - loss: 0.0817 - acc: 0.9731 - val_loss: 0.0989 - val_acc: 0.9819\n",
      "Epoch 19/20\n",
      "2975/2975 [==============================] - 0s 139us/step - loss: 0.0795 - acc: 0.9721 - val_loss: 0.0841 - val_acc: 0.9758\n",
      "Epoch 20/20\n",
      "2975/2975 [==============================] - 0s 138us/step - loss: 0.0758 - acc: 0.9748 - val_loss: 0.0581 - val_acc: 0.9819\n"
     ]
    },
    {
     "data": {
      "image/png": "[encoded data removed]",
      "text/plain": [
       "<Figure size 432x288 with 1 Axes>"
      ]
     },
     "metadata": {
      "needs_background": "light"
     },
     "output_type": "display_data"
    },
    {
     "name": "stdout",
     "output_type": "stream",
     "text": [
      "Test loss:  0.1276514095151763\n",
      "Test accuracy:  0.9625151148730351\n"
     ]
    }
   ],
   "source": [
    "num_category = 10 \n",
    "\n",
    "y_train_oh = keras.utils.to_categorical(y_train, num_category)\n",
    "y_test_oh = keras.utils.to_categorical(y_test, num_category)\n",
    "\n",
    "model = keras.Sequential()\n",
    "\n",
    "model.add(Reshape((28, 28, 1), input_shape=(X_train.shape[1],)))\n",
    "model.add(Conv2D(4, (2, 2), activation='relu', ))\n",
    "model.add(Conv2D(8, (2, 2), activation='relu'))\n",
    "model.add(MaxPooling2D(pool_size=(2, 2)))\n",
    "model.add(Dropout(0.25))\n",
    "\n",
    "model.add(Conv2D(16, (2, 2), activation='relu'))\n",
    "model.add(Conv2D(32, (2, 2), activation='relu'))\n",
    "model.add(MaxPooling2D(pool_size=(2, 2)))\n",
    "model.add(Dropout(0.25))\n",
    "\n",
    "model.add(Flatten())\n",
    "model.add(Dense(256, activation='relu'))\n",
    "model.add(Dropout(0.5))\n",
    "model.add(Dense(10, activation='softmax'))\n",
    "\n",
    "# Train and fit the model:\n",
    "model.compile(loss='categorical_crossentropy', optimizer='Adam', metrics=['accuracy'])\n",
    "\n",
    "history = model.fit(X_train, y_train_oh, epochs=20, verbose=1, batch_size=32,  validation_split=.1)\n",
    "loss, accuracy  = model.evaluate(X_test, y_test_oh, verbose=False)\n",
    "\n",
    "plt.plot(history.history['acc'])\n",
    "plt.plot(history.history['val_acc'])\n",
    "plt.title('VGG16 accuracy MNIST')\n",
    "plt.ylabel('accuracy')\n",
    "plt.xlabel('epoch')\n",
    "plt.legend(['training', 'validation'], loc='best')\n",
    "plt.show()\n",
    "\n",
    "print('Test loss: ', loss)\n",
    "print('Test accuracy: ', accuracy)\n"
   ]
  },
  {
   "cell_type": "code",
   "execution_count": 105,
   "metadata": {},
   "outputs": [
    {
     "data": {
      "text/plain": [
       "(784,)"
      ]
     },
     "execution_count": 105,
     "metadata": {},
     "output_type": "execute_result"
    }
   ],
   "source": [
    "\n"
   ]
  },
  {
   "cell_type": "code",
   "execution_count": null,
   "metadata": {},
   "outputs": [],
   "source": []
  },
  {
   "cell_type": "code",
   "execution_count": null,
   "metadata": {},
   "outputs": [],
   "source": [
    "\n",
    "\n"
   ]
  }
 ],
 "metadata": {
  "kernelspec": {
   "display_name": "Python 3",
   "language": "python",
   "name": "python3"
  },
  "language_info": {
   "codemirror_mode": {
    "name": "ipython",
    "version": 3
   },
   "file_extension": ".py",
   "mimetype": "text/x-python",
   "name": "python",
   "nbconvert_exporter": "python",
   "pygments_lexer": "ipython3",
   "version": "3.5.6"
  }
 },
 "nbformat": 4,
 "nbformat_minor": 2
}
